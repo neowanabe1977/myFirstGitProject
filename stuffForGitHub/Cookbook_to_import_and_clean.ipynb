{
 "cells": [
  {
   "cell_type": "code",
   "execution_count": 1,
   "metadata": {
    "collapsed": true,
    "run_control": {
     "read_only": false
    }
   },
   "outputs": [],
   "source": [
    "import collections\n",
    "\n",
    "import matplotlib as mpl\n",
    "import matplotlib.pyplot as plt\n",
    "\n",
    "import numpy as np\n",
    "import pandas as pd\n",
    "\n",
    "import re\n",
    "\n",
    "import os"
   ]
  },
  {
   "cell_type": "markdown",
   "metadata": {},
   "source": [
    "# how would you test histograms\n",
    "\n",
    "try thease web pages:\n",
    "\n",
    "http://www.pyimagesearch.com/2014/07/14/3-ways-compare-histograms-using-opencv-python/\n",
    "\n",
    "https://stats.stackexchange.com/questions/7400/how-to-assess-the-similarity-of-two-histograms"
   ]
  },
  {
   "cell_type": "markdown",
   "metadata": {},
   "source": [
    "### Command line checks of the data."
   ]
  },
  {
   "cell_type": "code",
   "execution_count": 2,
   "metadata": {
    "collapsed": false,
    "run_control": {
     "read_only": false
    }
   },
   "outputs": [
    {
     "name": "stdout",
     "output_type": "stream",
     "text": [
      "/vagrant/notebooks/EMA\r\n"
     ]
    }
   ],
   "source": [
    "!pwd"
   ]
  },
  {
   "cell_type": "code",
   "execution_count": 3,
   "metadata": {
    "collapsed": false,
    "run_control": {
     "read_only": false
    }
   },
   "outputs": [
    {
     "name": "stdout",
     "output_type": "stream",
     "text": [
      "A8565084_project_diary[EMA].ipynb      EMA_data\r\n",
      "Cookbook_to_import_and_clean.ipynb     Q_1_immigration_and_ageProfile.ipynb\r\n",
      "EMA_NB_for_first_question-Copy1.ipynb  Q_2_brexit_outcome_factors.ipynb\r\n",
      "EMA_NB_for_first_question.ipynb\r\n"
     ]
    }
   ],
   "source": [
    "!ls"
   ]
  },
  {
   "cell_type": "code",
   "execution_count": 4,
   "metadata": {
    "collapsed": true,
    "run_control": {
     "read_only": false
    }
   },
   "outputs": [],
   "source": [
    "os.chdir(\"/vagrant/notebooks/EMA/EMA_data\")"
   ]
  },
  {
   "cell_type": "code",
   "execution_count": 5,
   "metadata": {
    "collapsed": false,
    "run_control": {
     "read_only": false
    }
   },
   "outputs": [
    {
     "name": "stdout",
     "output_type": "stream",
     "text": [
      "/vagrant/notebooks/EMA/EMA_data\r\n"
     ]
    }
   ],
   "source": [
    "!pwd"
   ]
  },
  {
   "cell_type": "code",
   "execution_count": 6,
   "metadata": {
    "collapsed": false,
    "run_control": {
     "read_only": false
    }
   },
   "outputs": [
    {
     "name": "stdout",
     "output_type": "stream",
     "text": [
      "EU-referendum-result-data.csv  ukmye2015\r\n"
     ]
    }
   ],
   "source": [
    "!ls"
   ]
  },
  {
   "cell_type": "code",
   "execution_count": 7,
   "metadata": {
    "collapsed": false,
    "run_control": {
     "read_only": false
    }
   },
   "outputs": [],
   "source": [
    "os.chdir(\"/vagrant/notebooks/EMA/EMA_data/ukmye2015\")"
   ]
  },
  {
   "cell_type": "code",
   "execution_count": 8,
   "metadata": {
    "collapsed": false,
    "run_control": {
     "read_only": false
    }
   },
   "outputs": [
    {
     "name": "stdout",
     "output_type": "stream",
     "text": [
      "MYE1_population_summary_for_UK.xls\r\n",
      "MYE2_population_by_sex_and_age_for_local_authorities_UK.xls\r\n",
      "MYE3_population_change_for_local_authorities_UK.xls\r\n",
      "MYE4_population_summary_for_UK_countries_7115.xls\r\n",
      "MYE5_population_density_series_UK_(0115).xls\r\n",
      "MYEB1_detailed_population_estimates_series_UK.csv\r\n",
      "MYEB2_detailed_components_of_change_series_EW.csv\r\n",
      "MYEB3-checkpoint1519.csv\r\n",
      "MYEB3_summary_components_of_change_series_UK.csv\r\n",
      "MYEB_information_note.pdf\r\n",
      "[changed_number_ibreOffice]MYEB3_summary_components_of_change_series_UK.csv\r\n",
      "[set_to_numeric]MYEB3_summary_components_of_change_series_UK-csv.csv\r\n"
     ]
    }
   ],
   "source": [
    "!ls"
   ]
  },
  {
   "cell_type": "code",
   "execution_count": 9,
   "metadata": {
    "collapsed": false,
    "run_control": {
     "read_only": false
    }
   },
   "outputs": [
    {
     "name": "stdout",
     "output_type": "stream",
     "text": [
      "/vagrant/notebooks/EMA/EMA_data/ukmye2015/MYEB3_summary_components_of_change_series_UK.csv: ASCII text, with very long lines, with CRLF line terminators\r\n"
     ]
    }
   ],
   "source": [
    "!file /vagrant/notebooks/EMA/EMA_data/ukmye2015/MYEB3_summary_components_of_change_series_UK.csv"
   ]
  },
  {
   "cell_type": "code",
   "execution_count": 10,
   "metadata": {
    "collapsed": false,
    "run_control": {
     "read_only": false
    }
   },
   "outputs": [
    {
     "name": "stdout",
     "output_type": "stream",
     "text": [
      "lad2014_code,lad2014_name,country,population_2001,births_2002,deaths_2002,natchange_2002,internal_in_2002,internal_out_2002,internal_net_2002,international_in_2002,international_out_2002,international_net_2002,other_change_2002,population_2002,births_2003,deaths_2003,natchange_2003,internal_in_2003,internal_out_2003,internal_net_2003,international_in_2003,international_out_2003,international_net_2003,other_change_2003,population_2003,births_2004,deaths_2004,natchange_2004,internal_in_2004,internal_out_2004,internal_net_2004,international_in_2004,international_out_2004,international_net_2004,other_change_2004,population_2004,births_2005,deaths_2005,natchange_2005,internal_in_2005,internal_out_2005,internal_net_2005,international_in_2005,international_out_2005,international_net_2005,other_change_2005,population_2005,births_2006,deaths_2006,natchange_2006,internal_in_2006,internal_out_2006,internal_net_2006,international_in_2006,international_out_2006,international_net_2006,other_change_2006,population_2006,births_2007,deaths_2007,natchange_2007,internal_in_2007,internal_out_2007,internal_net_2007,international_in_2007,international_out_2007,international_net_2007,other_change_2007,population_2007,births_2008,deaths_2008,natchange_2008,internal_in_2008,internal_out_2008,internal_net_2008,international_in_2008,international_out_2008,international_net_2008,other_change_2008,population_2008,births_2009,deaths_2009,natchange_2009,internal_in_2009,internal_out_2009,internal_net_2009,international_in_2009,international_out_2009,international_net_2009,other_change_2009,population_2009,births_2010,deaths_2010,natchange_2010,internal_in_2010,internal_out_2010,internal_net_2010,international_in_2010,international_out_2010,international_net_2010,other_change_2010,population_2010,births_2011,deaths_2011,natchange_2011,internal_in_2011,internal_out_2011,internal_net_2011,international_in_2011,international_out_2011,international_net_2011,other_change_2011,population_2011,births_2012,deaths_2012,natchange_2012,internal_in_2012,internal_out_2012,internal_net_2012,international_in_2012,international_out_2012,international_net_2012,other_change_2012,population_2012,births_2013,deaths_2013,natchange_2013,internal_in_2013,internal_out_2013,internal_net_2013,international_in_2013,international_out_2013,international_net_2013,other_change_2013,population_2013,births_2014,deaths_2014,natchange_2014,internal_in_2014,internal_out_2014,internal_net_2014,international_in_2014,international_out_2014,international_net_2014,other_change_2014,population_2014,births_2015,deaths_2015,natchange_2015,internal_in_2054,internal_out_2015,internal_net_2015,international_in_2015,international_out_2015,international_net_2015,other_change_2015,population_2015\r",
      "\r\n",
      "E06000001,Hartlepool,E,90152,1017,1042,-25,2140,2301,-161,156,190,-34,61,89993,1022,1016,6,2252,2093,159,163,241,-78,54,90134,1077,998,79,2164,2080,84,152,174,-22,42,90317,1085,1079,6,2107,2096,11,168,106,62,61,90457,1181,998,183,2046,2017,29,249,171,78,34,90781,1128,1021,107,2268,2299,-31,172,86,86,26,90969,1199,978,221,2067,2023,44,224,118,106,39,91379,1133,922,211,1980,2136,-156,179,113,66,30,91530,1172,901,271,2025,2122,-97,173,124,49,20,91773,1187,936,251,2040,2065,-25,259,160,99,-10,92088,1146,903,243,2058,2119,-61,165,203,-38,6,92238,1083,911,172,2312,2220,92,269,126,143,20,92665,1069,883,186,2162,2457,-295,195,166,29,5,92590,1021,1102,-81,2137,2281,-144,248,135,113,15,92493\r",
      "\r\n"
     ]
    }
   ],
   "source": [
    "!head -2 MYEB3_summary_components_of_change_series_UK.csv"
   ]
  },
  {
   "cell_type": "markdown",
   "metadata": {},
   "source": [
    "# Recipe for import and clean data"
   ]
  },
  {
   "cell_type": "markdown",
   "metadata": {},
   "source": [
    "# MYEB3\n",
    "### Load age data into dataframe"
   ]
  },
  {
   "cell_type": "code",
   "execution_count": 11,
   "metadata": {
    "collapsed": false,
    "run_control": {
     "read_only": false
    },
    "scrolled": true
   },
   "outputs": [
    {
     "data": {
      "text/html": [
       "<div>\n",
       "<table border=\"1\" class=\"dataframe\">\n",
       "  <thead>\n",
       "    <tr style=\"text-align: right;\">\n",
       "      <th></th>\n",
       "      <th>lad2014_code</th>\n",
       "      <th>lad2014_name</th>\n",
       "      <th>country</th>\n",
       "      <th>population_2001</th>\n",
       "      <th>births_2002</th>\n",
       "      <th>deaths_2002</th>\n",
       "      <th>natchange_2002</th>\n",
       "      <th>internal_in_2002</th>\n",
       "      <th>internal_out_2002</th>\n",
       "      <th>internal_net_2002</th>\n",
       "      <th>...</th>\n",
       "      <th>deaths_2015</th>\n",
       "      <th>natchange_2015</th>\n",
       "      <th>internal_in_2054</th>\n",
       "      <th>internal_out_2015</th>\n",
       "      <th>internal_net_2015</th>\n",
       "      <th>international_in_2015</th>\n",
       "      <th>international_out_2015</th>\n",
       "      <th>international_net_2015</th>\n",
       "      <th>other_change_2015</th>\n",
       "      <th>population_2015</th>\n",
       "    </tr>\n",
       "  </thead>\n",
       "  <tbody>\n",
       "    <tr>\n",
       "      <th>0</th>\n",
       "      <td>E06000001</td>\n",
       "      <td>Hartlepool</td>\n",
       "      <td>E</td>\n",
       "      <td>90152</td>\n",
       "      <td>1017</td>\n",
       "      <td>1042</td>\n",
       "      <td>-25</td>\n",
       "      <td>2140</td>\n",
       "      <td>2301</td>\n",
       "      <td>-161</td>\n",
       "      <td>...</td>\n",
       "      <td>1102</td>\n",
       "      <td>-81</td>\n",
       "      <td>2137</td>\n",
       "      <td>2281</td>\n",
       "      <td>-144</td>\n",
       "      <td>248</td>\n",
       "      <td>135</td>\n",
       "      <td>113</td>\n",
       "      <td>15</td>\n",
       "      <td>92493</td>\n",
       "    </tr>\n",
       "    <tr>\n",
       "      <th>1</th>\n",
       "      <td>E06000002</td>\n",
       "      <td>Middlesbrough</td>\n",
       "      <td>E</td>\n",
       "      <td>141233</td>\n",
       "      <td>1663</td>\n",
       "      <td>1396</td>\n",
       "      <td>267</td>\n",
       "      <td>5109</td>\n",
       "      <td>6737</td>\n",
       "      <td>-1628</td>\n",
       "      <td>...</td>\n",
       "      <td>1488</td>\n",
       "      <td>465</td>\n",
       "      <td>6184</td>\n",
       "      <td>7071</td>\n",
       "      <td>-887</td>\n",
       "      <td>1250</td>\n",
       "      <td>450</td>\n",
       "      <td>800</td>\n",
       "      <td>12</td>\n",
       "      <td>139509</td>\n",
       "    </tr>\n",
       "  </tbody>\n",
       "</table>\n",
       "<p>2 rows × 158 columns</p>\n",
       "</div>"
      ],
      "text/plain": [
       "  lad2014_code   lad2014_name country  population_2001  births_2002  \\\n",
       "0    E06000001     Hartlepool       E            90152         1017   \n",
       "1    E06000002  Middlesbrough       E           141233         1663   \n",
       "\n",
       "   deaths_2002  natchange_2002  internal_in_2002  internal_out_2002  \\\n",
       "0         1042             -25              2140               2301   \n",
       "1         1396             267              5109               6737   \n",
       "\n",
       "   internal_net_2002       ...         deaths_2015  natchange_2015  \\\n",
       "0               -161       ...                1102             -81   \n",
       "1              -1628       ...                1488             465   \n",
       "\n",
       "   internal_in_2054  internal_out_2015  internal_net_2015  \\\n",
       "0              2137               2281               -144   \n",
       "1              6184               7071               -887   \n",
       "\n",
       "   international_in_2015  international_out_2015  international_net_2015  \\\n",
       "0                    248                     135                     113   \n",
       "1                   1250                     450                     800   \n",
       "\n",
       "   other_change_2015  population_2015  \n",
       "0                 15            92493  \n",
       "1                 12           139509  \n",
       "\n",
       "[2 rows x 158 columns]"
      ]
     },
     "execution_count": 11,
     "metadata": {},
     "output_type": "execute_result"
    }
   ],
   "source": [
    "# MYEB3_summary_components_of_change_series_UK.csv\n",
    "\n",
    "# After some time juggling I've included the [,thousands=','] bit to the read_csv to remove ,'s indicating thousands.\n",
    "\n",
    "change_components = pd.read_csv('/vagrant/notebooks/EMA/EMA_data/ukmye2015/MYEB3_summary_components_of_change_series_UK.csv', \n",
    "                        encoding = 'ASCII',thousands=',')\n",
    "\n",
    "change_components[:2]"
   ]
  },
  {
   "cell_type": "code",
   "execution_count": 12,
   "metadata": {
    "collapsed": false,
    "run_control": {
     "read_only": false
    },
    "scrolled": true
   },
   "outputs": [
    {
     "data": {
      "text/plain": [
       "lad2014_code              object\n",
       "lad2014_name              object\n",
       "country                   object\n",
       "population_2001            int64\n",
       "births_2002                int64\n",
       "deaths_2002                int64\n",
       "natchange_2002             int64\n",
       "internal_in_2002           int64\n",
       "internal_out_2002          int64\n",
       "internal_net_2002          int64\n",
       "international_in_2002      int64\n",
       "international_out_2002     int64\n",
       "international_net_2002     int64\n",
       "other_change_2002          int64\n",
       "population_2002            int64\n",
       "births_2003                int64\n",
       "deaths_2003                int64\n",
       "natchange_2003             int64\n",
       "internal_in_2003           int64\n",
       "internal_out_2003          int64\n",
       "internal_net_2003          int64\n",
       "international_in_2003      int64\n",
       "international_out_2003     int64\n",
       "international_net_2003     int64\n",
       "other_change_2003          int64\n",
       "population_2003            int64\n",
       "births_2004                int64\n",
       "deaths_2004                int64\n",
       "natchange_2004             int64\n",
       "internal_in_2004           int64\n",
       "                           ...  \n",
       "internal_in_2013           int64\n",
       "internal_out_2013          int64\n",
       "internal_net_2013          int64\n",
       "international_in_2013      int64\n",
       "international_out_2013     int64\n",
       "international_net_2013     int64\n",
       "other_change_2013          int64\n",
       "population_2013            int64\n",
       "births_2014                int64\n",
       "deaths_2014                int64\n",
       "natchange_2014             int64\n",
       "internal_in_2014           int64\n",
       "internal_out_2014          int64\n",
       "internal_net_2014          int64\n",
       "international_in_2014      int64\n",
       "international_out_2014     int64\n",
       "international_net_2014     int64\n",
       "other_change_2014          int64\n",
       "population_2014            int64\n",
       "births_2015               object\n",
       "deaths_2015               object\n",
       "natchange_2015            object\n",
       "internal_in_2054          object\n",
       "internal_out_2015         object\n",
       "internal_net_2015         object\n",
       "international_in_2015     object\n",
       "international_out_2015    object\n",
       "international_net_2015    object\n",
       "other_change_2015         object\n",
       "population_2015           object\n",
       "dtype: object"
      ]
     },
     "execution_count": 12,
     "metadata": {},
     "output_type": "execute_result"
    }
   ],
   "source": [
    "# What type of data types are contained?\n",
    "\n",
    "change_components.dtypes\n",
    "# Object type for the 2015 columns needs checking "
   ]
  },
  {
   "cell_type": "code",
   "execution_count": 13,
   "metadata": {
    "collapsed": false,
    "run_control": {
     "read_only": false
    }
   },
   "outputs": [
    {
     "data": {
      "text/plain": [
       "30                    1560\n",
       "31                    1458\n",
       "32                    1876\n",
       "33                    1222\n",
       "34                    2368\n",
       "35                     746\n",
       "36                    1228\n",
       "37                    1108\n",
       "38                     810\n",
       "39                    1283\n",
       "40                    1190\n",
       "41                    1773\n",
       "42                    2122\n",
       "43                    1768\n",
       "44                    1839\n",
       "45                    1764\n",
       "46                    5562\n",
       "47                    3871\n",
       "48                    3357\n",
       "49                    3271\n",
       "50                    6126\n",
       "51                      25\n",
       "52                    4720\n",
       "53                    1463\n",
       "54                    2038\n",
       "55                    3711\n",
       "56                    1496\n",
       "57                     817\n",
       "58                     704\n",
       "59                    1328\n",
       "              ...         \n",
       "330                      :\n",
       "331                      :\n",
       "332                      :\n",
       "333                      :\n",
       "334                      :\n",
       "335                      :\n",
       "336                      :\n",
       "337                   2260\n",
       "338                   2474\n",
       "339                   1405\n",
       "340                   1160\n",
       "341                   4380\n",
       "342                    535\n",
       "343                   1917\n",
       "344                   1763\n",
       "345                   1448\n",
       "346                   1103\n",
       "347                   1052\n",
       "348                    949\n",
       "349                   1616\n",
       "350                   3994\n",
       "351                   6540\n",
       "352                   2514\n",
       "353                   1010\n",
       "354                    884\n",
       "355                   1006\n",
       "356                    386\n",
       "357                   1708\n",
       "358                   3619\n",
       "359                    211\n",
       "Name: deaths_2015, dtype: object"
      ]
     },
     "execution_count": 13,
     "metadata": {},
     "output_type": "execute_result"
    }
   ],
   "source": [
    "change_components['births_2015'][0:390]\n",
    "change_components['deaths_2015'][30:360]\n",
    "\n",
    "# Ahh some values (prob NULL) are a colon....."
   ]
  },
  {
   "cell_type": "code",
   "execution_count": 14,
   "metadata": {
    "collapsed": false,
    "run_control": {
     "read_only": false
    },
    "scrolled": true
   },
   "outputs": [
    {
     "data": {
      "text/plain": [
       "330    NaN\n",
       "331    NaN\n",
       "332    NaN\n",
       "333    NaN\n",
       "334    NaN\n",
       "335    NaN\n",
       "Name: deaths_2015, dtype: object"
      ]
     },
     "execution_count": 14,
     "metadata": {},
     "output_type": "execute_result"
    }
   ],
   "source": [
    "# Remove the colons in the non-numeric columns2015 ...\n",
    "\n",
    "to_remove_colon = ['births_2015', 'deaths_2015', 'natchange_2015', 'internal_in_2054', 'internal_out_2015', \n",
    "                   'internal_net_2015', 'international_in_2015', 'international_out_2015', 'international_net_2015', \n",
    "                   'other_change_2015', 'population_2015']\n",
    "\n",
    "\n",
    "change_components.replace(r':', np.nan, inplace=True, regex=True )\n",
    "\n",
    "\n",
    "pd.to_numeric(change_components[to_remove_colon], errors= 'coerce')\n",
    "change_components['deaths_2015'][330:336]\n",
    "\n",
    "# Well this seems to have worked :)))))))"
   ]
  },
  {
   "cell_type": "code",
   "execution_count": 15,
   "metadata": {
    "collapsed": false,
    "run_control": {
     "read_only": false
    },
    "scrolled": true
   },
   "outputs": [
    {
     "data": {
      "text/plain": [
       "array([326, 327, 328, 329, 330, 331, 332, 333, 334, 335, 336], dtype=int32)"
      ]
     },
     "execution_count": 15,
     "metadata": {},
     "output_type": "execute_result"
    }
   ],
   "source": [
    "# Explore the rows that had the blank values to see what information is lost \n",
    "pd.isnull(change_components).any(1).nonzero()[0]"
   ]
  },
  {
   "cell_type": "code",
   "execution_count": 16,
   "metadata": {
    "collapsed": false,
    "run_control": {
     "read_only": false
    }
   },
   "outputs": [
    {
     "data": {
      "text/html": [
       "<div>\n",
       "<table border=\"1\" class=\"dataframe\">\n",
       "  <thead>\n",
       "    <tr style=\"text-align: right;\">\n",
       "      <th></th>\n",
       "      <th>lad2014_code</th>\n",
       "      <th>lad2014_name</th>\n",
       "      <th>country</th>\n",
       "      <th>population_2001</th>\n",
       "      <th>births_2002</th>\n",
       "      <th>deaths_2002</th>\n",
       "      <th>natchange_2002</th>\n",
       "      <th>internal_in_2002</th>\n",
       "      <th>internal_out_2002</th>\n",
       "      <th>internal_net_2002</th>\n",
       "      <th>...</th>\n",
       "      <th>deaths_2015</th>\n",
       "      <th>natchange_2015</th>\n",
       "      <th>internal_in_2054</th>\n",
       "      <th>internal_out_2015</th>\n",
       "      <th>internal_net_2015</th>\n",
       "      <th>international_in_2015</th>\n",
       "      <th>international_out_2015</th>\n",
       "      <th>international_net_2015</th>\n",
       "      <th>other_change_2015</th>\n",
       "      <th>population_2015</th>\n",
       "    </tr>\n",
       "  </thead>\n",
       "  <tbody>\n",
       "    <tr>\n",
       "      <th>325</th>\n",
       "      <td>E09000033</td>\n",
       "      <td>Westminster</td>\n",
       "      <td>E</td>\n",
       "      <td>203329</td>\n",
       "      <td>2531</td>\n",
       "      <td>1372</td>\n",
       "      <td>1159</td>\n",
       "      <td>20051</td>\n",
       "      <td>18823</td>\n",
       "      <td>1228</td>\n",
       "      <td>...</td>\n",
       "      <td>1163</td>\n",
       "      <td>1522</td>\n",
       "      <td>17911</td>\n",
       "      <td>21184</td>\n",
       "      <td>-3273</td>\n",
       "      <td>16009</td>\n",
       "      <td>5246</td>\n",
       "      <td>10763</td>\n",
       "      <td>-5</td>\n",
       "      <td>242299</td>\n",
       "    </tr>\n",
       "    <tr>\n",
       "      <th>326</th>\n",
       "      <td>N09000001</td>\n",
       "      <td>Antrim and Newtownabbey</td>\n",
       "      <td>N</td>\n",
       "      <td>128760</td>\n",
       "      <td>1669</td>\n",
       "      <td>1016</td>\n",
       "      <td>653</td>\n",
       "      <td>4356</td>\n",
       "      <td>4269</td>\n",
       "      <td>87</td>\n",
       "      <td>...</td>\n",
       "      <td>NaN</td>\n",
       "      <td>NaN</td>\n",
       "      <td>NaN</td>\n",
       "      <td>NaN</td>\n",
       "      <td>NaN</td>\n",
       "      <td>NaN</td>\n",
       "      <td>NaN</td>\n",
       "      <td>NaN</td>\n",
       "      <td>NaN</td>\n",
       "      <td>NaN</td>\n",
       "    </tr>\n",
       "    <tr>\n",
       "      <th>327</th>\n",
       "      <td>N09000011</td>\n",
       "      <td>Ards and North Down</td>\n",
       "      <td>N</td>\n",
       "      <td>149559</td>\n",
       "      <td>1593</td>\n",
       "      <td>1409</td>\n",
       "      <td>184</td>\n",
       "      <td>4004</td>\n",
       "      <td>3325</td>\n",
       "      <td>679</td>\n",
       "      <td>...</td>\n",
       "      <td>NaN</td>\n",
       "      <td>NaN</td>\n",
       "      <td>NaN</td>\n",
       "      <td>NaN</td>\n",
       "      <td>NaN</td>\n",
       "      <td>NaN</td>\n",
       "      <td>NaN</td>\n",
       "      <td>NaN</td>\n",
       "      <td>NaN</td>\n",
       "      <td>NaN</td>\n",
       "    </tr>\n",
       "    <tr>\n",
       "      <th>328</th>\n",
       "      <td>N09000002</td>\n",
       "      <td>Armagh City, Banbridge and Craigavon</td>\n",
       "      <td>N</td>\n",
       "      <td>176014</td>\n",
       "      <td>2370</td>\n",
       "      <td>1395</td>\n",
       "      <td>975</td>\n",
       "      <td>3957</td>\n",
       "      <td>3300</td>\n",
       "      <td>657</td>\n",
       "      <td>...</td>\n",
       "      <td>NaN</td>\n",
       "      <td>NaN</td>\n",
       "      <td>NaN</td>\n",
       "      <td>NaN</td>\n",
       "      <td>NaN</td>\n",
       "      <td>NaN</td>\n",
       "      <td>NaN</td>\n",
       "      <td>NaN</td>\n",
       "      <td>NaN</td>\n",
       "      <td>NaN</td>\n",
       "    </tr>\n",
       "    <tr>\n",
       "      <th>329</th>\n",
       "      <td>N09000003</td>\n",
       "      <td>Belfast</td>\n",
       "      <td>N</td>\n",
       "      <td>328695</td>\n",
       "      <td>3857</td>\n",
       "      <td>3324</td>\n",
       "      <td>533</td>\n",
       "      <td>10469</td>\n",
       "      <td>12157</td>\n",
       "      <td>-1688</td>\n",
       "      <td>...</td>\n",
       "      <td>NaN</td>\n",
       "      <td>NaN</td>\n",
       "      <td>NaN</td>\n",
       "      <td>NaN</td>\n",
       "      <td>NaN</td>\n",
       "      <td>NaN</td>\n",
       "      <td>NaN</td>\n",
       "      <td>NaN</td>\n",
       "      <td>NaN</td>\n",
       "      <td>NaN</td>\n",
       "    </tr>\n",
       "    <tr>\n",
       "      <th>330</th>\n",
       "      <td>N09000004</td>\n",
       "      <td>Causeway Coast and Glens</td>\n",
       "      <td>N</td>\n",
       "      <td>131374</td>\n",
       "      <td>1616</td>\n",
       "      <td>1009</td>\n",
       "      <td>607</td>\n",
       "      <td>4136</td>\n",
       "      <td>3662</td>\n",
       "      <td>474</td>\n",
       "      <td>...</td>\n",
       "      <td>NaN</td>\n",
       "      <td>NaN</td>\n",
       "      <td>NaN</td>\n",
       "      <td>NaN</td>\n",
       "      <td>NaN</td>\n",
       "      <td>NaN</td>\n",
       "      <td>NaN</td>\n",
       "      <td>NaN</td>\n",
       "      <td>NaN</td>\n",
       "      <td>NaN</td>\n",
       "    </tr>\n",
       "    <tr>\n",
       "      <th>331</th>\n",
       "      <td>N09000005</td>\n",
       "      <td>Derry City and Strabane</td>\n",
       "      <td>N</td>\n",
       "      <td>143810</td>\n",
       "      <td>2078</td>\n",
       "      <td>1033</td>\n",
       "      <td>1045</td>\n",
       "      <td>2635</td>\n",
       "      <td>2747</td>\n",
       "      <td>-112</td>\n",
       "      <td>...</td>\n",
       "      <td>NaN</td>\n",
       "      <td>NaN</td>\n",
       "      <td>NaN</td>\n",
       "      <td>NaN</td>\n",
       "      <td>NaN</td>\n",
       "      <td>NaN</td>\n",
       "      <td>NaN</td>\n",
       "      <td>NaN</td>\n",
       "      <td>NaN</td>\n",
       "      <td>NaN</td>\n",
       "    </tr>\n",
       "    <tr>\n",
       "      <th>332</th>\n",
       "      <td>N09000006</td>\n",
       "      <td>Fermanagh and Omagh</td>\n",
       "      <td>N</td>\n",
       "      <td>105751</td>\n",
       "      <td>1340</td>\n",
       "      <td>899</td>\n",
       "      <td>441</td>\n",
       "      <td>3220</td>\n",
       "      <td>2507</td>\n",
       "      <td>713</td>\n",
       "      <td>...</td>\n",
       "      <td>NaN</td>\n",
       "      <td>NaN</td>\n",
       "      <td>NaN</td>\n",
       "      <td>NaN</td>\n",
       "      <td>NaN</td>\n",
       "      <td>NaN</td>\n",
       "      <td>NaN</td>\n",
       "      <td>NaN</td>\n",
       "      <td>NaN</td>\n",
       "      <td>NaN</td>\n",
       "    </tr>\n",
       "    <tr>\n",
       "      <th>333</th>\n",
       "      <td>N09000007</td>\n",
       "      <td>Lisburn and Castlereagh</td>\n",
       "      <td>N</td>\n",
       "      <td>124585</td>\n",
       "      <td>1528</td>\n",
       "      <td>1092</td>\n",
       "      <td>436</td>\n",
       "      <td>4638</td>\n",
       "      <td>5062</td>\n",
       "      <td>-424</td>\n",
       "      <td>...</td>\n",
       "      <td>NaN</td>\n",
       "      <td>NaN</td>\n",
       "      <td>NaN</td>\n",
       "      <td>NaN</td>\n",
       "      <td>NaN</td>\n",
       "      <td>NaN</td>\n",
       "      <td>NaN</td>\n",
       "      <td>NaN</td>\n",
       "      <td>NaN</td>\n",
       "      <td>NaN</td>\n",
       "    </tr>\n",
       "    <tr>\n",
       "      <th>334</th>\n",
       "      <td>N09000008</td>\n",
       "      <td>Mid and East Antrim</td>\n",
       "      <td>N</td>\n",
       "      <td>127452</td>\n",
       "      <td>1461</td>\n",
       "      <td>1151</td>\n",
       "      <td>310</td>\n",
       "      <td>3349</td>\n",
       "      <td>3013</td>\n",
       "      <td>336</td>\n",
       "      <td>...</td>\n",
       "      <td>NaN</td>\n",
       "      <td>NaN</td>\n",
       "      <td>NaN</td>\n",
       "      <td>NaN</td>\n",
       "      <td>NaN</td>\n",
       "      <td>NaN</td>\n",
       "      <td>NaN</td>\n",
       "      <td>NaN</td>\n",
       "      <td>NaN</td>\n",
       "      <td>NaN</td>\n",
       "    </tr>\n",
       "    <tr>\n",
       "      <th>335</th>\n",
       "      <td>N09000009</td>\n",
       "      <td>Mid Ulster</td>\n",
       "      <td>N</td>\n",
       "      <td>119112</td>\n",
       "      <td>1742</td>\n",
       "      <td>871</td>\n",
       "      <td>871</td>\n",
       "      <td>2344</td>\n",
       "      <td>2367</td>\n",
       "      <td>-23</td>\n",
       "      <td>...</td>\n",
       "      <td>NaN</td>\n",
       "      <td>NaN</td>\n",
       "      <td>NaN</td>\n",
       "      <td>NaN</td>\n",
       "      <td>NaN</td>\n",
       "      <td>NaN</td>\n",
       "      <td>NaN</td>\n",
       "      <td>NaN</td>\n",
       "      <td>NaN</td>\n",
       "      <td>NaN</td>\n",
       "    </tr>\n",
       "    <tr>\n",
       "      <th>336</th>\n",
       "      <td>N09000010</td>\n",
       "      <td>Newry, Mourne and Down</td>\n",
       "      <td>N</td>\n",
       "      <td>153726</td>\n",
       "      <td>2206</td>\n",
       "      <td>1233</td>\n",
       "      <td>973</td>\n",
       "      <td>3585</td>\n",
       "      <td>3363</td>\n",
       "      <td>222</td>\n",
       "      <td>...</td>\n",
       "      <td>NaN</td>\n",
       "      <td>NaN</td>\n",
       "      <td>NaN</td>\n",
       "      <td>NaN</td>\n",
       "      <td>NaN</td>\n",
       "      <td>NaN</td>\n",
       "      <td>NaN</td>\n",
       "      <td>NaN</td>\n",
       "      <td>NaN</td>\n",
       "      <td>NaN</td>\n",
       "    </tr>\n",
       "    <tr>\n",
       "      <th>337</th>\n",
       "      <td>S12000033</td>\n",
       "      <td>Aberdeen City</td>\n",
       "      <td>S</td>\n",
       "      <td>211910</td>\n",
       "      <td>2029</td>\n",
       "      <td>2233</td>\n",
       "      <td>-204</td>\n",
       "      <td>8018</td>\n",
       "      <td>9677</td>\n",
       "      <td>-1659</td>\n",
       "      <td>...</td>\n",
       "      <td>2260</td>\n",
       "      <td>307</td>\n",
       "      <td>9470</td>\n",
       "      <td>11574</td>\n",
       "      <td>-2104</td>\n",
       "      <td>4590</td>\n",
       "      <td>1401</td>\n",
       "      <td>3189</td>\n",
       "      <td>38</td>\n",
       "      <td>230350</td>\n",
       "    </tr>\n",
       "  </tbody>\n",
       "</table>\n",
       "<p>13 rows × 158 columns</p>\n",
       "</div>"
      ],
      "text/plain": [
       "    lad2014_code                          lad2014_name country  \\\n",
       "325    E09000033                           Westminster       E   \n",
       "326    N09000001               Antrim and Newtownabbey       N   \n",
       "327    N09000011                   Ards and North Down       N   \n",
       "328    N09000002  Armagh City, Banbridge and Craigavon       N   \n",
       "329    N09000003                               Belfast       N   \n",
       "330    N09000004              Causeway Coast and Glens       N   \n",
       "331    N09000005               Derry City and Strabane       N   \n",
       "332    N09000006                   Fermanagh and Omagh       N   \n",
       "333    N09000007               Lisburn and Castlereagh       N   \n",
       "334    N09000008                   Mid and East Antrim       N   \n",
       "335    N09000009                            Mid Ulster       N   \n",
       "336    N09000010                Newry, Mourne and Down       N   \n",
       "337    S12000033                         Aberdeen City       S   \n",
       "\n",
       "     population_2001  births_2002  deaths_2002  natchange_2002  \\\n",
       "325           203329         2531         1372            1159   \n",
       "326           128760         1669         1016             653   \n",
       "327           149559         1593         1409             184   \n",
       "328           176014         2370         1395             975   \n",
       "329           328695         3857         3324             533   \n",
       "330           131374         1616         1009             607   \n",
       "331           143810         2078         1033            1045   \n",
       "332           105751         1340          899             441   \n",
       "333           124585         1528         1092             436   \n",
       "334           127452         1461         1151             310   \n",
       "335           119112         1742          871             871   \n",
       "336           153726         2206         1233             973   \n",
       "337           211910         2029         2233            -204   \n",
       "\n",
       "     internal_in_2002  internal_out_2002  internal_net_2002       ...         \\\n",
       "325             20051              18823               1228       ...          \n",
       "326              4356               4269                 87       ...          \n",
       "327              4004               3325                679       ...          \n",
       "328              3957               3300                657       ...          \n",
       "329             10469              12157              -1688       ...          \n",
       "330              4136               3662                474       ...          \n",
       "331              2635               2747               -112       ...          \n",
       "332              3220               2507                713       ...          \n",
       "333              4638               5062               -424       ...          \n",
       "334              3349               3013                336       ...          \n",
       "335              2344               2367                -23       ...          \n",
       "336              3585               3363                222       ...          \n",
       "337              8018               9677              -1659       ...          \n",
       "\n",
       "     deaths_2015  natchange_2015  internal_in_2054  internal_out_2015  \\\n",
       "325         1163            1522             17911              21184   \n",
       "326          NaN             NaN               NaN                NaN   \n",
       "327          NaN             NaN               NaN                NaN   \n",
       "328          NaN             NaN               NaN                NaN   \n",
       "329          NaN             NaN               NaN                NaN   \n",
       "330          NaN             NaN               NaN                NaN   \n",
       "331          NaN             NaN               NaN                NaN   \n",
       "332          NaN             NaN               NaN                NaN   \n",
       "333          NaN             NaN               NaN                NaN   \n",
       "334          NaN             NaN               NaN                NaN   \n",
       "335          NaN             NaN               NaN                NaN   \n",
       "336          NaN             NaN               NaN                NaN   \n",
       "337         2260             307              9470              11574   \n",
       "\n",
       "     internal_net_2015  international_in_2015  international_out_2015  \\\n",
       "325              -3273                  16009                    5246   \n",
       "326                NaN                    NaN                     NaN   \n",
       "327                NaN                    NaN                     NaN   \n",
       "328                NaN                    NaN                     NaN   \n",
       "329                NaN                    NaN                     NaN   \n",
       "330                NaN                    NaN                     NaN   \n",
       "331                NaN                    NaN                     NaN   \n",
       "332                NaN                    NaN                     NaN   \n",
       "333                NaN                    NaN                     NaN   \n",
       "334                NaN                    NaN                     NaN   \n",
       "335                NaN                    NaN                     NaN   \n",
       "336                NaN                    NaN                     NaN   \n",
       "337              -2104                   4590                    1401   \n",
       "\n",
       "     international_net_2015  other_change_2015  population_2015  \n",
       "325                   10763                 -5           242299  \n",
       "326                     NaN                NaN              NaN  \n",
       "327                     NaN                NaN              NaN  \n",
       "328                     NaN                NaN              NaN  \n",
       "329                     NaN                NaN              NaN  \n",
       "330                     NaN                NaN              NaN  \n",
       "331                     NaN                NaN              NaN  \n",
       "332                     NaN                NaN              NaN  \n",
       "333                     NaN                NaN              NaN  \n",
       "334                     NaN                NaN              NaN  \n",
       "335                     NaN                NaN              NaN  \n",
       "336                     NaN                NaN              NaN  \n",
       "337                    3189                 38           230350  \n",
       "\n",
       "[13 rows x 158 columns]"
      ]
     },
     "execution_count": 16,
     "metadata": {},
     "output_type": "execute_result"
    }
   ],
   "source": [
    "# Here is the missing data\n",
    "change_components.loc[[325, 326, 327, 328, 329, 330, 331, 332, 333, 334, 335, 336, 337]]"
   ]
  },
  {
   "cell_type": "code",
   "execution_count": 17,
   "metadata": {
    "collapsed": false,
    "run_control": {
     "read_only": false
    },
    "scrolled": false
   },
   "outputs": [
    {
     "data": {
      "text/plain": [
       "other_change_2003    22773\n",
       "other_change_2006    20959\n",
       "other_change_2007    19151\n",
       "other_change_2008    18091\n",
       "other_change_2002    17700\n",
       "other_change_2005    17464\n",
       "other_change_2009    15846\n",
       "other_change_2004    15628\n",
       "other_change_2010    10430\n",
       "other_change_2011     6716\n",
       "other_change_2013     5180\n",
       "other_change_2014     5166\n",
       "other_change_2012     -119\n",
       "dtype: int64"
      ]
     },
     "execution_count": 17,
     "metadata": {},
     "output_type": "execute_result"
    }
   ],
   "source": [
    "change_components[[ 'other_change_2002', 'other_change_2003', 'other_change_2004', 'other_change_2005', \n",
    "                   'other_change_2006', 'other_change_2007', 'other_change_2008', 'other_change_2009', \n",
    "                   'other_change_2010', 'other_change_2011', 'other_change_2012', 'other_change_2013', \n",
    "                   'other_change_2014', 'other_change_2015']].sum(axis=0).nlargest(20)\n",
    "\n"
   ]
  },
  {
   "cell_type": "markdown",
   "metadata": {},
   "source": [
    "# Now for the other csv's in the set.....MYEB2"
   ]
  },
  {
   "cell_type": "code",
   "execution_count": 18,
   "metadata": {
    "collapsed": false,
    "run_control": {
     "read_only": false
    }
   },
   "outputs": [
    {
     "data": {
      "text/html": [
       "<div>\n",
       "<table border=\"1\" class=\"dataframe\">\n",
       "  <thead>\n",
       "    <tr style=\"text-align: right;\">\n",
       "      <th></th>\n",
       "      <th>lad2014_code</th>\n",
       "      <th>lad2014_name</th>\n",
       "      <th>country</th>\n",
       "      <th>sex</th>\n",
       "      <th>age</th>\n",
       "      <th>population_2001</th>\n",
       "      <th>population_2002</th>\n",
       "      <th>population_2003</th>\n",
       "      <th>population_2004</th>\n",
       "      <th>population_2005</th>\n",
       "      <th>...</th>\n",
       "      <th>other_adjust_2006</th>\n",
       "      <th>other_adjust_2007</th>\n",
       "      <th>other_adjust_2008</th>\n",
       "      <th>other_adjust_2009</th>\n",
       "      <th>other_adjust_2010</th>\n",
       "      <th>other_adjust_2011</th>\n",
       "      <th>other_adjust_2012</th>\n",
       "      <th>other_adjust_2013</th>\n",
       "      <th>other_adjust_2014</th>\n",
       "      <th>other_adjust_2015</th>\n",
       "    </tr>\n",
       "  </thead>\n",
       "  <tbody>\n",
       "    <tr>\n",
       "      <th>0</th>\n",
       "      <td>E06000001</td>\n",
       "      <td>Hartlepool</td>\n",
       "      <td>E</td>\n",
       "      <td>1</td>\n",
       "      <td>0</td>\n",
       "      <td>525</td>\n",
       "      <td>502</td>\n",
       "      <td>516</td>\n",
       "      <td>553</td>\n",
       "      <td>531</td>\n",
       "      <td>...</td>\n",
       "      <td>0</td>\n",
       "      <td>0</td>\n",
       "      <td>0</td>\n",
       "      <td>0</td>\n",
       "      <td>0</td>\n",
       "      <td>0</td>\n",
       "      <td>0</td>\n",
       "      <td>0</td>\n",
       "      <td>0</td>\n",
       "      <td>0</td>\n",
       "    </tr>\n",
       "    <tr>\n",
       "      <th>1</th>\n",
       "      <td>E06000001</td>\n",
       "      <td>Hartlepool</td>\n",
       "      <td>E</td>\n",
       "      <td>1</td>\n",
       "      <td>1</td>\n",
       "      <td>544</td>\n",
       "      <td>526</td>\n",
       "      <td>498</td>\n",
       "      <td>526</td>\n",
       "      <td>550</td>\n",
       "      <td>...</td>\n",
       "      <td>0</td>\n",
       "      <td>0</td>\n",
       "      <td>0</td>\n",
       "      <td>0</td>\n",
       "      <td>0</td>\n",
       "      <td>0</td>\n",
       "      <td>0</td>\n",
       "      <td>0</td>\n",
       "      <td>0</td>\n",
       "      <td>0</td>\n",
       "    </tr>\n",
       "    <tr>\n",
       "      <th>2</th>\n",
       "      <td>E06000001</td>\n",
       "      <td>Hartlepool</td>\n",
       "      <td>E</td>\n",
       "      <td>1</td>\n",
       "      <td>2</td>\n",
       "      <td>548</td>\n",
       "      <td>548</td>\n",
       "      <td>551</td>\n",
       "      <td>507</td>\n",
       "      <td>521</td>\n",
       "      <td>...</td>\n",
       "      <td>0</td>\n",
       "      <td>0</td>\n",
       "      <td>0</td>\n",
       "      <td>0</td>\n",
       "      <td>0</td>\n",
       "      <td>0</td>\n",
       "      <td>0</td>\n",
       "      <td>0</td>\n",
       "      <td>0</td>\n",
       "      <td>0</td>\n",
       "    </tr>\n",
       "    <tr>\n",
       "      <th>3</th>\n",
       "      <td>E06000001</td>\n",
       "      <td>Hartlepool</td>\n",
       "      <td>E</td>\n",
       "      <td>1</td>\n",
       "      <td>3</td>\n",
       "      <td>556</td>\n",
       "      <td>546</td>\n",
       "      <td>548</td>\n",
       "      <td>553</td>\n",
       "      <td>508</td>\n",
       "      <td>...</td>\n",
       "      <td>0</td>\n",
       "      <td>0</td>\n",
       "      <td>0</td>\n",
       "      <td>0</td>\n",
       "      <td>0</td>\n",
       "      <td>0</td>\n",
       "      <td>0</td>\n",
       "      <td>0</td>\n",
       "      <td>0</td>\n",
       "      <td>0</td>\n",
       "    </tr>\n",
       "    <tr>\n",
       "      <th>4</th>\n",
       "      <td>E06000001</td>\n",
       "      <td>Hartlepool</td>\n",
       "      <td>E</td>\n",
       "      <td>1</td>\n",
       "      <td>4</td>\n",
       "      <td>606</td>\n",
       "      <td>549</td>\n",
       "      <td>553</td>\n",
       "      <td>540</td>\n",
       "      <td>554</td>\n",
       "      <td>...</td>\n",
       "      <td>0</td>\n",
       "      <td>0</td>\n",
       "      <td>0</td>\n",
       "      <td>0</td>\n",
       "      <td>0</td>\n",
       "      <td>0</td>\n",
       "      <td>0</td>\n",
       "      <td>0</td>\n",
       "      <td>0</td>\n",
       "      <td>0</td>\n",
       "    </tr>\n",
       "    <tr>\n",
       "      <th>5</th>\n",
       "      <td>E06000001</td>\n",
       "      <td>Hartlepool</td>\n",
       "      <td>E</td>\n",
       "      <td>1</td>\n",
       "      <td>5</td>\n",
       "      <td>606</td>\n",
       "      <td>609</td>\n",
       "      <td>557</td>\n",
       "      <td>558</td>\n",
       "      <td>536</td>\n",
       "      <td>...</td>\n",
       "      <td>0</td>\n",
       "      <td>0</td>\n",
       "      <td>0</td>\n",
       "      <td>0</td>\n",
       "      <td>0</td>\n",
       "      <td>0</td>\n",
       "      <td>0</td>\n",
       "      <td>0</td>\n",
       "      <td>0</td>\n",
       "      <td>0</td>\n",
       "    </tr>\n",
       "    <tr>\n",
       "      <th>6</th>\n",
       "      <td>E06000001</td>\n",
       "      <td>Hartlepool</td>\n",
       "      <td>E</td>\n",
       "      <td>1</td>\n",
       "      <td>6</td>\n",
       "      <td>651</td>\n",
       "      <td>619</td>\n",
       "      <td>613</td>\n",
       "      <td>561</td>\n",
       "      <td>559</td>\n",
       "      <td>...</td>\n",
       "      <td>0</td>\n",
       "      <td>0</td>\n",
       "      <td>0</td>\n",
       "      <td>0</td>\n",
       "      <td>0</td>\n",
       "      <td>0</td>\n",
       "      <td>0</td>\n",
       "      <td>0</td>\n",
       "      <td>0</td>\n",
       "      <td>0</td>\n",
       "    </tr>\n",
       "    <tr>\n",
       "      <th>7</th>\n",
       "      <td>E06000001</td>\n",
       "      <td>Hartlepool</td>\n",
       "      <td>E</td>\n",
       "      <td>1</td>\n",
       "      <td>7</td>\n",
       "      <td>665</td>\n",
       "      <td>655</td>\n",
       "      <td>626</td>\n",
       "      <td>618</td>\n",
       "      <td>555</td>\n",
       "      <td>...</td>\n",
       "      <td>0</td>\n",
       "      <td>0</td>\n",
       "      <td>0</td>\n",
       "      <td>0</td>\n",
       "      <td>0</td>\n",
       "      <td>0</td>\n",
       "      <td>0</td>\n",
       "      <td>0</td>\n",
       "      <td>0</td>\n",
       "      <td>0</td>\n",
       "    </tr>\n",
       "    <tr>\n",
       "      <th>8</th>\n",
       "      <td>E06000001</td>\n",
       "      <td>Hartlepool</td>\n",
       "      <td>E</td>\n",
       "      <td>1</td>\n",
       "      <td>8</td>\n",
       "      <td>615</td>\n",
       "      <td>670</td>\n",
       "      <td>650</td>\n",
       "      <td>625</td>\n",
       "      <td>626</td>\n",
       "      <td>...</td>\n",
       "      <td>0</td>\n",
       "      <td>0</td>\n",
       "      <td>0</td>\n",
       "      <td>0</td>\n",
       "      <td>0</td>\n",
       "      <td>0</td>\n",
       "      <td>0</td>\n",
       "      <td>0</td>\n",
       "      <td>0</td>\n",
       "      <td>0</td>\n",
       "    </tr>\n",
       "    <tr>\n",
       "      <th>9</th>\n",
       "      <td>E06000001</td>\n",
       "      <td>Hartlepool</td>\n",
       "      <td>E</td>\n",
       "      <td>1</td>\n",
       "      <td>9</td>\n",
       "      <td>681</td>\n",
       "      <td>609</td>\n",
       "      <td>675</td>\n",
       "      <td>653</td>\n",
       "      <td>623</td>\n",
       "      <td>...</td>\n",
       "      <td>0</td>\n",
       "      <td>0</td>\n",
       "      <td>0</td>\n",
       "      <td>0</td>\n",
       "      <td>0</td>\n",
       "      <td>0</td>\n",
       "      <td>0</td>\n",
       "      <td>0</td>\n",
       "      <td>0</td>\n",
       "      <td>0</td>\n",
       "    </tr>\n",
       "  </tbody>\n",
       "</table>\n",
       "<p>10 rows × 170 columns</p>\n",
       "</div>"
      ],
      "text/plain": [
       "  lad2014_code lad2014_name country  sex  age  population_2001  \\\n",
       "0    E06000001   Hartlepool       E    1    0              525   \n",
       "1    E06000001   Hartlepool       E    1    1              544   \n",
       "2    E06000001   Hartlepool       E    1    2              548   \n",
       "3    E06000001   Hartlepool       E    1    3              556   \n",
       "4    E06000001   Hartlepool       E    1    4              606   \n",
       "5    E06000001   Hartlepool       E    1    5              606   \n",
       "6    E06000001   Hartlepool       E    1    6              651   \n",
       "7    E06000001   Hartlepool       E    1    7              665   \n",
       "8    E06000001   Hartlepool       E    1    8              615   \n",
       "9    E06000001   Hartlepool       E    1    9              681   \n",
       "\n",
       "   population_2002  population_2003  population_2004  population_2005  \\\n",
       "0              502              516              553              531   \n",
       "1              526              498              526              550   \n",
       "2              548              551              507              521   \n",
       "3              546              548              553              508   \n",
       "4              549              553              540              554   \n",
       "5              609              557              558              536   \n",
       "6              619              613              561              559   \n",
       "7              655              626              618              555   \n",
       "8              670              650              625              626   \n",
       "9              609              675              653              623   \n",
       "\n",
       "         ...          other_adjust_2006  other_adjust_2007  other_adjust_2008  \\\n",
       "0        ...                          0                  0                  0   \n",
       "1        ...                          0                  0                  0   \n",
       "2        ...                          0                  0                  0   \n",
       "3        ...                          0                  0                  0   \n",
       "4        ...                          0                  0                  0   \n",
       "5        ...                          0                  0                  0   \n",
       "6        ...                          0                  0                  0   \n",
       "7        ...                          0                  0                  0   \n",
       "8        ...                          0                  0                  0   \n",
       "9        ...                          0                  0                  0   \n",
       "\n",
       "   other_adjust_2009  other_adjust_2010  other_adjust_2011  other_adjust_2012  \\\n",
       "0                  0                  0                  0                  0   \n",
       "1                  0                  0                  0                  0   \n",
       "2                  0                  0                  0                  0   \n",
       "3                  0                  0                  0                  0   \n",
       "4                  0                  0                  0                  0   \n",
       "5                  0                  0                  0                  0   \n",
       "6                  0                  0                  0                  0   \n",
       "7                  0                  0                  0                  0   \n",
       "8                  0                  0                  0                  0   \n",
       "9                  0                  0                  0                  0   \n",
       "\n",
       "   other_adjust_2013  other_adjust_2014  other_adjust_2015  \n",
       "0                  0                  0                  0  \n",
       "1                  0                  0                  0  \n",
       "2                  0                  0                  0  \n",
       "3                  0                  0                  0  \n",
       "4                  0                  0                  0  \n",
       "5                  0                  0                  0  \n",
       "6                  0                  0                  0  \n",
       "7                  0                  0                  0  \n",
       "8                  0                  0                  0  \n",
       "9                  0                  0                  0  \n",
       "\n",
       "[10 rows x 170 columns]"
      ]
     },
     "execution_count": 18,
     "metadata": {},
     "output_type": "execute_result"
    }
   ],
   "source": [
    "\n",
    "age_change_components = pd.read_csv('/vagrant/notebooks/EMA/EMA_data/ukmye2015/MYEB2_detailed_components_of_change_series_EW.csv', \n",
    "            encoding = 'ASCII')\n",
    "\n",
    "age_change_components[:10]"
   ]
  },
  {
   "cell_type": "code",
   "execution_count": 19,
   "metadata": {
    "collapsed": false,
    "run_control": {
     "read_only": false
    }
   },
   "outputs": [
    {
     "data": {
      "text/plain": [
       "lad2014_code           object\n",
       "lad2014_name           object\n",
       "country                object\n",
       "sex                     int64\n",
       "age                     int64\n",
       "population_2001         int64\n",
       "population_2002         int64\n",
       "population_2003         int64\n",
       "population_2004         int64\n",
       "population_2005         int64\n",
       "population_2006         int64\n",
       "population_2007         int64\n",
       "population_2008         int64\n",
       "population_2009         int64\n",
       "population_2010         int64\n",
       "population_2011         int64\n",
       "population_2012         int64\n",
       "population_2013         int64\n",
       "population_2014         int64\n",
       "population_2015         int64\n",
       "births_2002             int64\n",
       "births_2003             int64\n",
       "births_2004             int64\n",
       "births_2005             int64\n",
       "births_2006             int64\n",
       "births_2007             int64\n",
       "births_2008             int64\n",
       "births_2009             int64\n",
       "births_2010             int64\n",
       "births_2011             int64\n",
       "                        ...  \n",
       "special_change_2010     int64\n",
       "special_change_2011     int64\n",
       "special_change_2012     int64\n",
       "special_change_2013     int64\n",
       "special_change_2014     int64\n",
       "special_change_2015     int64\n",
       "unattrib_2002           int64\n",
       "unattrib_2003           int64\n",
       "unattrib_2004           int64\n",
       "unattrib_2005           int64\n",
       "unattrib_2006           int64\n",
       "unattrib_2007           int64\n",
       "unattrib_2008           int64\n",
       "unattrib_2009           int64\n",
       "unattrib_2010           int64\n",
       "unattrib_2011           int64\n",
       "other_adjust_2002       int64\n",
       "other_adjust_2003       int64\n",
       "other_adjust_2004       int64\n",
       "other_adjust_2005       int64\n",
       "other_adjust_2006       int64\n",
       "other_adjust_2007       int64\n",
       "other_adjust_2008       int64\n",
       "other_adjust_2009       int64\n",
       "other_adjust_2010       int64\n",
       "other_adjust_2011       int64\n",
       "other_adjust_2012       int64\n",
       "other_adjust_2013       int64\n",
       "other_adjust_2014       int64\n",
       "other_adjust_2015       int64\n",
       "dtype: object"
      ]
     },
     "execution_count": 19,
     "metadata": {},
     "output_type": "execute_result"
    }
   ],
   "source": [
    "# Make d type check...\n",
    "age_change_components.dtypes\n",
    "\n",
    "# Looks good! :) And as cast to int's looks like no/few NaN's"
   ]
  },
  {
   "cell_type": "code",
   "execution_count": 20,
   "metadata": {
    "collapsed": false,
    "run_control": {
     "read_only": false
    }
   },
   "outputs": [
    {
     "data": {
      "text/html": [
       "<div>\n",
       "<table border=\"1\" class=\"dataframe\">\n",
       "  <thead>\n",
       "    <tr style=\"text-align: right;\">\n",
       "      <th></th>\n",
       "      <th>sex</th>\n",
       "      <th>age</th>\n",
       "      <th>population_2001</th>\n",
       "      <th>population_2002</th>\n",
       "      <th>population_2003</th>\n",
       "      <th>population_2004</th>\n",
       "      <th>population_2005</th>\n",
       "      <th>population_2006</th>\n",
       "      <th>population_2007</th>\n",
       "      <th>population_2008</th>\n",
       "      <th>...</th>\n",
       "      <th>other_adjust_2006</th>\n",
       "      <th>other_adjust_2007</th>\n",
       "      <th>other_adjust_2008</th>\n",
       "      <th>other_adjust_2009</th>\n",
       "      <th>other_adjust_2010</th>\n",
       "      <th>other_adjust_2011</th>\n",
       "      <th>other_adjust_2012</th>\n",
       "      <th>other_adjust_2013</th>\n",
       "      <th>other_adjust_2014</th>\n",
       "      <th>other_adjust_2015</th>\n",
       "    </tr>\n",
       "  </thead>\n",
       "  <tbody>\n",
       "  </tbody>\n",
       "</table>\n",
       "<p>0 rows × 167 columns</p>\n",
       "</div>"
      ],
      "text/plain": [
       "Empty DataFrame\n",
       "Columns: [sex, age, population_2001, population_2002, population_2003, population_2004, population_2005, population_2006, population_2007, population_2008, population_2009, population_2010, population_2011, population_2012, population_2013, population_2014, population_2015, births_2002, births_2003, births_2004, births_2005, births_2006, births_2007, births_2008, births_2009, births_2010, births_2011, births_2012, births_2013, births_2014, births_2015, deaths_2002, deaths_2003, deaths_2004, deaths_2005, deaths_2006, deaths_2007, deaths_2008, deaths_2009, deaths_2010, deaths_2011, deaths_2012, deaths_2013, deaths_2014, deaths_2015, internal_in_2002, internal_in_2003, internal_in_2004, internal_in_2005, internal_in_2006, internal_in_2007, internal_in_2008, internal_in_2009, internal_in_2010, internal_in_2011, internal_in_2012, internal_in_2013, internal_in_2014, internal_in_2015, internal_out_2002, internal_out_2003, internal_out_2004, internal_out_2005, internal_out_2006, internal_out_2007, internal_out_2008, internal_out_2009, internal_out_2010, internal_out_2011, internal_out_2012, internal_out_2013, internal_out_2014, internal_out_2015, internal_net_2002, internal_net_2003, internal_net_2004, internal_net_2005, internal_net_2006, internal_net_2007, internal_net_2008, internal_net_2009, internal_net_2010, internal_net_2011, internal_net_2012, internal_net_2013, internal_net_2014, internal_net_2015, international_in_2002, international_in_2003, international_in_2004, international_in_2005, international_in_2006, international_in_2007, international_in_2008, international_in_2009, international_in_2010, international_in_2011, international_in_2012, international_in_2013, international_in_2014, ...]\n",
       "Index: []\n",
       "\n",
       "[0 rows x 167 columns]"
      ]
     },
     "execution_count": 20,
     "metadata": {},
     "output_type": "execute_result"
    }
   ],
   "source": [
    "\n",
    "age_test = age_change_components.drop(['lad2014_code', 'lad2014_name', 'country'], axis=1, inplace= False)\n",
    "\n",
    "age_test[~age_test.applymap(np.isreal).all(1)]\n"
   ]
  },
  {
   "cell_type": "markdown",
   "metadata": {},
   "source": [
    "# MYEB2 checks on the values in the data...\n",
    "# 1st) check \"international_net_20??\" is correct\n"
   ]
  },
  {
   "cell_type": "code",
   "execution_count": 21,
   "metadata": {
    "collapsed": false,
    "run_control": {
     "read_only": false
    }
   },
   "outputs": [
    {
     "data": {
      "text/plain": [
       "0        True\n",
       "1        True\n",
       "2        True\n",
       "3        True\n",
       "4        True\n",
       "5        True\n",
       "6        True\n",
       "7        True\n",
       "8        True\n",
       "9        True\n",
       "10       True\n",
       "11       True\n",
       "12       True\n",
       "13       True\n",
       "14       True\n",
       "15       True\n",
       "16       True\n",
       "17       True\n",
       "18       True\n",
       "19       True\n",
       "20       True\n",
       "21       True\n",
       "22       True\n",
       "23       True\n",
       "24       True\n",
       "25       True\n",
       "26       True\n",
       "27       True\n",
       "28       True\n",
       "29       True\n",
       "         ... \n",
       "63306    True\n",
       "63307    True\n",
       "63308    True\n",
       "63309    True\n",
       "63310    True\n",
       "63311    True\n",
       "63312    True\n",
       "63313    True\n",
       "63314    True\n",
       "63315    True\n",
       "63316    True\n",
       "63317    True\n",
       "63318    True\n",
       "63319    True\n",
       "63320    True\n",
       "63321    True\n",
       "63322    True\n",
       "63323    True\n",
       "63324    True\n",
       "63325    True\n",
       "63326    True\n",
       "63327    True\n",
       "63328    True\n",
       "63329    True\n",
       "63330    True\n",
       "63331    True\n",
       "63332    True\n",
       "63333    True\n",
       "63334    True\n",
       "63335    True\n",
       "Name: check_diff_15, dtype: bool"
      ]
     },
     "execution_count": 21,
     "metadata": {},
     "output_type": "execute_result"
    }
   ],
   "source": [
    "check_in = [ 'international_in_2003', 'international_in_2004',  \n",
    "            'international_in_2006', 'international_in_2007', 'international_in_2008', 'international_in_2009', \n",
    "            'international_in_2010', 'international_in_2011', 'international_in_2012', 'international_in_2013', \n",
    "            'international_in_2014', 'international_in_201']\n",
    "\n",
    "check_out = ['international_out_2003',\n",
    "             'international_out_2004', 'international_out_2006', 'international_out_2007',\n",
    "             'international_out_2008', 'international_out_2009', 'international_out_2010', 'international_out_2011',\n",
    "             'international_out_2012', 'international_out_2013', 'international_out_2014', 'international_out_2015',]\n",
    "\n",
    "given_international = ['international_net_2002', 'international_net_2003', 'international_net_2004', \n",
    "                       'international_net_2006', 'international_net_2007', 'international_net_2008', 'international_net_2009',\n",
    "                       'international_net_2010', 'international_net_2011', 'international_net_2012', 'international_net_2013', \n",
    "                       'international_net_2014', 'international_net_2015']\n",
    "\n",
    "check_diff = [ 'check_diff_03', 'check_diff_04',  \n",
    "              'check_diff_06', 'check_diff_07', 'check_diff_08', 'check_diff_09', \n",
    "              'check_diff_10', 'check_diff_11', 'check_diff_12', 'check_diff_13',\n",
    "              'check_diff_14', 'check_diff_15']\n",
    "\n",
    "# SPOT CHECK 2002\n",
    "#age_change_components['check_diff_02'] = (age_change_components['international_in_2002'] + age_change_components['international_out_2002']) - age_change_components['international_net_2002']\n",
    "#age_change_components['check_diff_02'].notnull()\n",
    "\n",
    "# SPOT CHECK 2005\n",
    "#age_change_components['check_diff_05'] = (age_change_components['international_in_2005'] + age_change_components['international_out_2005']) - age_change_components['international_net_2005']\n",
    "#age_change_components['check_diff_05'].notnull()\n",
    "\n",
    "# SPOT CHECK 2011\n",
    "#age_change_components['check_diff_11'] = (age_change_components['international_in_2011'] + age_change_components['international_out_2011']) - age_change_components['international_net_2011']\n",
    "#age_change_components['check_diff_11'].notnull()\n",
    "\n",
    "# SPOT CHECK 2015\n",
    "age_change_components['check_diff_15'] = (age_change_components['international_in_2015'] + age_change_components['international_out_2015']) - age_change_components['international_net_2015']\n",
    "age_change_components['check_diff_15'].notnull()"
   ]
  },
  {
   "cell_type": "code",
   "execution_count": 22,
   "metadata": {
    "collapsed": false,
    "run_control": {
     "read_only": false
    }
   },
   "outputs": [
    {
     "data": {
      "text/plain": [
       "['lad2014_code',\n",
       " 'lad2014_name',\n",
       " 'country',\n",
       " 'sex',\n",
       " 'age',\n",
       " 'population_2001',\n",
       " 'population_2002',\n",
       " 'population_2003',\n",
       " 'population_2004',\n",
       " 'population_2005',\n",
       " 'population_2006',\n",
       " 'population_2007',\n",
       " 'population_2008',\n",
       " 'population_2009',\n",
       " 'population_2010',\n",
       " 'population_2011',\n",
       " 'population_2012',\n",
       " 'population_2013',\n",
       " 'population_2014',\n",
       " 'population_2015',\n",
       " 'births_2002',\n",
       " 'births_2003',\n",
       " 'births_2004',\n",
       " 'births_2005',\n",
       " 'births_2006',\n",
       " 'births_2007',\n",
       " 'births_2008',\n",
       " 'births_2009',\n",
       " 'births_2010',\n",
       " 'births_2011',\n",
       " 'births_2012',\n",
       " 'births_2013',\n",
       " 'births_2014',\n",
       " 'births_2015',\n",
       " 'deaths_2002',\n",
       " 'deaths_2003',\n",
       " 'deaths_2004',\n",
       " 'deaths_2005',\n",
       " 'deaths_2006',\n",
       " 'deaths_2007',\n",
       " 'deaths_2008',\n",
       " 'deaths_2009',\n",
       " 'deaths_2010',\n",
       " 'deaths_2011',\n",
       " 'deaths_2012',\n",
       " 'deaths_2013',\n",
       " 'deaths_2014',\n",
       " 'deaths_2015',\n",
       " 'internal_in_2002',\n",
       " 'internal_in_2003',\n",
       " 'internal_in_2004',\n",
       " 'internal_in_2005',\n",
       " 'internal_in_2006',\n",
       " 'internal_in_2007',\n",
       " 'internal_in_2008',\n",
       " 'internal_in_2009',\n",
       " 'internal_in_2010',\n",
       " 'internal_in_2011',\n",
       " 'internal_in_2012',\n",
       " 'internal_in_2013',\n",
       " 'internal_in_2014',\n",
       " 'internal_in_2015',\n",
       " 'internal_out_2002',\n",
       " 'internal_out_2003',\n",
       " 'internal_out_2004',\n",
       " 'internal_out_2005',\n",
       " 'internal_out_2006',\n",
       " 'internal_out_2007',\n",
       " 'internal_out_2008',\n",
       " 'internal_out_2009',\n",
       " 'internal_out_2010',\n",
       " 'internal_out_2011',\n",
       " 'internal_out_2012',\n",
       " 'internal_out_2013',\n",
       " 'internal_out_2014',\n",
       " 'internal_out_2015',\n",
       " 'internal_net_2002',\n",
       " 'internal_net_2003',\n",
       " 'internal_net_2004',\n",
       " 'internal_net_2005',\n",
       " 'internal_net_2006',\n",
       " 'internal_net_2007',\n",
       " 'internal_net_2008',\n",
       " 'internal_net_2009',\n",
       " 'internal_net_2010',\n",
       " 'internal_net_2011',\n",
       " 'internal_net_2012',\n",
       " 'internal_net_2013',\n",
       " 'internal_net_2014',\n",
       " 'internal_net_2015',\n",
       " 'international_in_2002',\n",
       " 'international_in_2003',\n",
       " 'international_in_2004',\n",
       " 'international_in_2005',\n",
       " 'international_in_2006',\n",
       " 'international_in_2007',\n",
       " 'international_in_2008',\n",
       " 'international_in_2009',\n",
       " 'international_in_2010',\n",
       " 'international_in_2011',\n",
       " 'international_in_2012',\n",
       " 'international_in_2013',\n",
       " 'international_in_2014',\n",
       " 'international_in_2015',\n",
       " 'international_out_2002',\n",
       " 'international_out_2003',\n",
       " 'international_out_2004',\n",
       " 'international_out_2005',\n",
       " 'international_out_2006',\n",
       " 'international_out_2007',\n",
       " 'international_out_2008',\n",
       " 'international_out_2009',\n",
       " 'international_out_2010',\n",
       " 'international_out_2011',\n",
       " 'international_out_2012',\n",
       " 'international_out_2013',\n",
       " 'international_out_2014',\n",
       " 'international_out_2015',\n",
       " 'international_net_2002',\n",
       " 'international_net_2003',\n",
       " 'international_net_2004',\n",
       " 'international_net_2005',\n",
       " 'international_net_2006',\n",
       " 'international_net_2007',\n",
       " 'international_net_2008',\n",
       " 'international_net_2009',\n",
       " 'international_net_2010',\n",
       " 'international_net_2011',\n",
       " 'international_net_2012',\n",
       " 'international_net_2013',\n",
       " 'international_net_2014',\n",
       " 'international_net_2015',\n",
       " 'special_change_2002',\n",
       " 'special_change_2003',\n",
       " 'special_change_2004',\n",
       " 'special_change_2005',\n",
       " 'special_change_2006',\n",
       " 'special_change_2007',\n",
       " 'special_change_2008',\n",
       " 'special_change_2009',\n",
       " 'special_change_2010',\n",
       " 'special_change_2011',\n",
       " 'special_change_2012',\n",
       " 'special_change_2013',\n",
       " 'special_change_2014',\n",
       " 'special_change_2015',\n",
       " 'unattrib_2002',\n",
       " 'unattrib_2003',\n",
       " 'unattrib_2004',\n",
       " 'unattrib_2005',\n",
       " 'unattrib_2006',\n",
       " 'unattrib_2007',\n",
       " 'unattrib_2008',\n",
       " 'unattrib_2009',\n",
       " 'unattrib_2010',\n",
       " 'unattrib_2011',\n",
       " 'other_adjust_2002',\n",
       " 'other_adjust_2003',\n",
       " 'other_adjust_2004',\n",
       " 'other_adjust_2005',\n",
       " 'other_adjust_2006',\n",
       " 'other_adjust_2007',\n",
       " 'other_adjust_2008',\n",
       " 'other_adjust_2009',\n",
       " 'other_adjust_2010',\n",
       " 'other_adjust_2011',\n",
       " 'other_adjust_2012',\n",
       " 'other_adjust_2013',\n",
       " 'other_adjust_2014',\n",
       " 'other_adjust_2015',\n",
       " 'check_diff_15']"
      ]
     },
     "execution_count": 22,
     "metadata": {},
     "output_type": "execute_result"
    }
   ],
   "source": [
    "list(age_change_components)"
   ]
  },
  {
   "cell_type": "markdown",
   "metadata": {
    "collapsed": true,
    "run_control": {
     "read_only": false
    }
   },
   "source": [
    "# Areas where de-anonimisation may occur?? births"
   ]
  },
  {
   "cell_type": "code",
   "execution_count": 23,
   "metadata": {
    "collapsed": false,
    "run_control": {
     "read_only": false
    }
   },
   "outputs": [
    {
     "ename": "KeyError",
     "evalue": "MemoryError()",
     "output_type": "error",
     "traceback": [
      "\u001b[1;31m---------------------------------------------------------------------------\u001b[0m",
      "\u001b[1;31mMemoryError\u001b[0m                               Traceback (most recent call last)",
      "\u001b[1;32m/usr/local/lib/python3.4/dist-packages/pandas/core/indexing.py\u001b[0m in \u001b[0;36m_getbool_axis\u001b[1;34m(self, key, axis)\u001b[0m\n\u001b[0;32m   1236\u001b[0m         \u001b[1;32mtry\u001b[0m\u001b[1;33m:\u001b[0m\u001b[1;33m\u001b[0m\u001b[0m\n\u001b[1;32m-> 1237\u001b[1;33m             \u001b[1;32mreturn\u001b[0m \u001b[0mself\u001b[0m\u001b[1;33m.\u001b[0m\u001b[0mobj\u001b[0m\u001b[1;33m.\u001b[0m\u001b[0mtake\u001b[0m\u001b[1;33m(\u001b[0m\u001b[0minds\u001b[0m\u001b[1;33m,\u001b[0m \u001b[0maxis\u001b[0m\u001b[1;33m=\u001b[0m\u001b[0maxis\u001b[0m\u001b[1;33m,\u001b[0m \u001b[0mconvert\u001b[0m\u001b[1;33m=\u001b[0m\u001b[1;32mFalse\u001b[0m\u001b[1;33m)\u001b[0m\u001b[1;33m\u001b[0m\u001b[0m\n\u001b[0m\u001b[0;32m   1238\u001b[0m         \u001b[1;32mexcept\u001b[0m \u001b[0mException\u001b[0m \u001b[1;32mas\u001b[0m \u001b[0mdetail\u001b[0m\u001b[1;33m:\u001b[0m\u001b[1;33m\u001b[0m\u001b[0m\n",
      "\u001b[1;32m/usr/local/lib/python3.4/dist-packages/pandas/core/generic.py\u001b[0m in \u001b[0;36mtake\u001b[1;34m(self, indices, axis, convert, is_copy)\u001b[0m\n\u001b[0;32m   1367\u001b[0m \u001b[1;33m\u001b[0m\u001b[0m\n\u001b[1;32m-> 1368\u001b[1;33m         \u001b[0mself\u001b[0m\u001b[1;33m.\u001b[0m\u001b[0m_consolidate_inplace\u001b[0m\u001b[1;33m(\u001b[0m\u001b[1;33m)\u001b[0m\u001b[1;33m\u001b[0m\u001b[0m\n\u001b[0m\u001b[0;32m   1369\u001b[0m         new_data = self._data.take(indices,\n",
      "\u001b[1;32m/usr/local/lib/python3.4/dist-packages/pandas/core/generic.py\u001b[0m in \u001b[0;36m_consolidate_inplace\u001b[1;34m(self)\u001b[0m\n\u001b[0;32m   2410\u001b[0m             \u001b[0mself\u001b[0m\u001b[1;33m.\u001b[0m\u001b[0m_data\u001b[0m \u001b[1;33m=\u001b[0m \u001b[0mself\u001b[0m\u001b[1;33m.\u001b[0m\u001b[0m_data\u001b[0m\u001b[1;33m.\u001b[0m\u001b[0mconsolidate\u001b[0m\u001b[1;33m(\u001b[0m\u001b[1;33m)\u001b[0m\u001b[1;33m\u001b[0m\u001b[0m\n\u001b[1;32m-> 2411\u001b[1;33m         \u001b[0mself\u001b[0m\u001b[1;33m.\u001b[0m\u001b[0m_protect_consolidate\u001b[0m\u001b[1;33m(\u001b[0m\u001b[0mf\u001b[0m\u001b[1;33m)\u001b[0m\u001b[1;33m\u001b[0m\u001b[0m\n\u001b[0m\u001b[0;32m   2412\u001b[0m \u001b[1;33m\u001b[0m\u001b[0m\n",
      "\u001b[1;32m/usr/local/lib/python3.4/dist-packages/pandas/core/generic.py\u001b[0m in \u001b[0;36m_protect_consolidate\u001b[1;34m(self, f)\u001b[0m\n\u001b[0;32m   2401\u001b[0m         \u001b[0mblocks_before\u001b[0m \u001b[1;33m=\u001b[0m \u001b[0mlen\u001b[0m\u001b[1;33m(\u001b[0m\u001b[0mself\u001b[0m\u001b[1;33m.\u001b[0m\u001b[0m_data\u001b[0m\u001b[1;33m.\u001b[0m\u001b[0mblocks\u001b[0m\u001b[1;33m)\u001b[0m\u001b[1;33m\u001b[0m\u001b[0m\n\u001b[1;32m-> 2402\u001b[1;33m         \u001b[0mresult\u001b[0m \u001b[1;33m=\u001b[0m \u001b[0mf\u001b[0m\u001b[1;33m(\u001b[0m\u001b[1;33m)\u001b[0m\u001b[1;33m\u001b[0m\u001b[0m\n\u001b[0m\u001b[0;32m   2403\u001b[0m         \u001b[1;32mif\u001b[0m \u001b[0mlen\u001b[0m\u001b[1;33m(\u001b[0m\u001b[0mself\u001b[0m\u001b[1;33m.\u001b[0m\u001b[0m_data\u001b[0m\u001b[1;33m.\u001b[0m\u001b[0mblocks\u001b[0m\u001b[1;33m)\u001b[0m \u001b[1;33m!=\u001b[0m \u001b[0mblocks_before\u001b[0m\u001b[1;33m:\u001b[0m\u001b[1;33m\u001b[0m\u001b[0m\n",
      "\u001b[1;32m/usr/local/lib/python3.4/dist-packages/pandas/core/generic.py\u001b[0m in \u001b[0;36mf\u001b[1;34m()\u001b[0m\n\u001b[0;32m   2409\u001b[0m         \u001b[1;32mdef\u001b[0m \u001b[0mf\u001b[0m\u001b[1;33m(\u001b[0m\u001b[1;33m)\u001b[0m\u001b[1;33m:\u001b[0m\u001b[1;33m\u001b[0m\u001b[0m\n\u001b[1;32m-> 2410\u001b[1;33m             \u001b[0mself\u001b[0m\u001b[1;33m.\u001b[0m\u001b[0m_data\u001b[0m \u001b[1;33m=\u001b[0m \u001b[0mself\u001b[0m\u001b[1;33m.\u001b[0m\u001b[0m_data\u001b[0m\u001b[1;33m.\u001b[0m\u001b[0mconsolidate\u001b[0m\u001b[1;33m(\u001b[0m\u001b[1;33m)\u001b[0m\u001b[1;33m\u001b[0m\u001b[0m\n\u001b[0m\u001b[0;32m   2411\u001b[0m         \u001b[0mself\u001b[0m\u001b[1;33m.\u001b[0m\u001b[0m_protect_consolidate\u001b[0m\u001b[1;33m(\u001b[0m\u001b[0mf\u001b[0m\u001b[1;33m)\u001b[0m\u001b[1;33m\u001b[0m\u001b[0m\n",
      "\u001b[1;32m/usr/local/lib/python3.4/dist-packages/pandas/core/internals.py\u001b[0m in \u001b[0;36mconsolidate\u001b[1;34m(self)\u001b[0m\n\u001b[0;32m   3193\u001b[0m         \u001b[0mbm\u001b[0m\u001b[1;33m.\u001b[0m\u001b[0m_is_consolidated\u001b[0m \u001b[1;33m=\u001b[0m \u001b[1;32mFalse\u001b[0m\u001b[1;33m\u001b[0m\u001b[0m\n\u001b[1;32m-> 3194\u001b[1;33m         \u001b[0mbm\u001b[0m\u001b[1;33m.\u001b[0m\u001b[0m_consolidate_inplace\u001b[0m\u001b[1;33m(\u001b[0m\u001b[1;33m)\u001b[0m\u001b[1;33m\u001b[0m\u001b[0m\n\u001b[0m\u001b[0;32m   3195\u001b[0m         \u001b[1;32mreturn\u001b[0m \u001b[0mbm\u001b[0m\u001b[1;33m\u001b[0m\u001b[0m\n",
      "\u001b[1;32m/usr/local/lib/python3.4/dist-packages/pandas/core/internals.py\u001b[0m in \u001b[0;36m_consolidate_inplace\u001b[1;34m(self)\u001b[0m\n\u001b[0;32m   3198\u001b[0m         \u001b[1;32mif\u001b[0m \u001b[1;32mnot\u001b[0m \u001b[0mself\u001b[0m\u001b[1;33m.\u001b[0m\u001b[0mis_consolidated\u001b[0m\u001b[1;33m(\u001b[0m\u001b[1;33m)\u001b[0m\u001b[1;33m:\u001b[0m\u001b[1;33m\u001b[0m\u001b[0m\n\u001b[1;32m-> 3199\u001b[1;33m             \u001b[0mself\u001b[0m\u001b[1;33m.\u001b[0m\u001b[0mblocks\u001b[0m \u001b[1;33m=\u001b[0m \u001b[0mtuple\u001b[0m\u001b[1;33m(\u001b[0m\u001b[0m_consolidate\u001b[0m\u001b[1;33m(\u001b[0m\u001b[0mself\u001b[0m\u001b[1;33m.\u001b[0m\u001b[0mblocks\u001b[0m\u001b[1;33m)\u001b[0m\u001b[1;33m)\u001b[0m\u001b[1;33m\u001b[0m\u001b[0m\n\u001b[0m\u001b[0;32m   3200\u001b[0m             \u001b[0mself\u001b[0m\u001b[1;33m.\u001b[0m\u001b[0m_is_consolidated\u001b[0m \u001b[1;33m=\u001b[0m \u001b[1;32mTrue\u001b[0m\u001b[1;33m\u001b[0m\u001b[0m\n",
      "\u001b[1;32m/usr/local/lib/python3.4/dist-packages/pandas/core/internals.py\u001b[0m in \u001b[0;36m_consolidate\u001b[1;34m(blocks)\u001b[0m\n\u001b[0;32m   4188\u001b[0m         merged_blocks = _merge_blocks(list(group_blocks), dtype=dtype,\n\u001b[1;32m-> 4189\u001b[1;33m                                       _can_consolidate=_can_consolidate)\n\u001b[0m\u001b[0;32m   4190\u001b[0m         \u001b[0mnew_blocks\u001b[0m \u001b[1;33m=\u001b[0m \u001b[0m_extend_blocks\u001b[0m\u001b[1;33m(\u001b[0m\u001b[0mmerged_blocks\u001b[0m\u001b[1;33m,\u001b[0m \u001b[0mnew_blocks\u001b[0m\u001b[1;33m)\u001b[0m\u001b[1;33m\u001b[0m\u001b[0m\n",
      "\u001b[1;32m/usr/local/lib/python3.4/dist-packages/pandas/core/internals.py\u001b[0m in \u001b[0;36m_merge_blocks\u001b[1;34m(blocks, dtype, _can_consolidate)\u001b[0m\n\u001b[0;32m   4211\u001b[0m         \u001b[0margsort\u001b[0m \u001b[1;33m=\u001b[0m \u001b[0mnp\u001b[0m\u001b[1;33m.\u001b[0m\u001b[0margsort\u001b[0m\u001b[1;33m(\u001b[0m\u001b[0mnew_mgr_locs\u001b[0m\u001b[1;33m)\u001b[0m\u001b[1;33m\u001b[0m\u001b[0m\n\u001b[1;32m-> 4212\u001b[1;33m         \u001b[0mnew_values\u001b[0m \u001b[1;33m=\u001b[0m \u001b[0mnew_values\u001b[0m\u001b[1;33m[\u001b[0m\u001b[0margsort\u001b[0m\u001b[1;33m]\u001b[0m\u001b[1;33m\u001b[0m\u001b[0m\n\u001b[0m\u001b[0;32m   4213\u001b[0m         \u001b[0mnew_mgr_locs\u001b[0m \u001b[1;33m=\u001b[0m \u001b[0mnew_mgr_locs\u001b[0m\u001b[1;33m[\u001b[0m\u001b[0margsort\u001b[0m\u001b[1;33m]\u001b[0m\u001b[1;33m\u001b[0m\u001b[0m\n",
      "\u001b[1;31mMemoryError\u001b[0m: ",
      "\nDuring handling of the above exception, another exception occurred:\n",
      "\u001b[1;31mKeyError\u001b[0m                                  Traceback (most recent call last)",
      "\u001b[1;32m<ipython-input-23-c8f635b91918>\u001b[0m in \u001b[0;36m<module>\u001b[1;34m()\u001b[0m\n\u001b[0;32m     17\u001b[0m \u001b[1;31m#age_change_components.loc[(age_change_components['births_2013'] < 100) & (age_change_components['age'] == 0)]['births_2013']\u001b[0m\u001b[1;33m\u001b[0m\u001b[1;33m\u001b[0m\u001b[0m\n\u001b[0;32m     18\u001b[0m \u001b[1;31m#age_change_components.loc[(age_change_components['births_2014'] < 100) & (age_change_components['age'] == 0)]['births_2014']\u001b[0m\u001b[1;33m\u001b[0m\u001b[1;33m\u001b[0m\u001b[0m\n\u001b[1;32m---> 19\u001b[1;33m \u001b[0mage_change_components\u001b[0m\u001b[1;33m.\u001b[0m\u001b[0mloc\u001b[0m\u001b[1;33m[\u001b[0m\u001b[1;33m(\u001b[0m\u001b[0mage_change_components\u001b[0m\u001b[1;33m[\u001b[0m\u001b[1;34m'births_2015'\u001b[0m\u001b[1;33m]\u001b[0m \u001b[1;33m<\u001b[0m \u001b[1;36m100\u001b[0m\u001b[1;33m)\u001b[0m \u001b[1;33m&\u001b[0m \u001b[1;33m(\u001b[0m\u001b[0mage_change_components\u001b[0m\u001b[1;33m[\u001b[0m\u001b[1;34m'age'\u001b[0m\u001b[1;33m]\u001b[0m \u001b[1;33m==\u001b[0m \u001b[1;36m0\u001b[0m\u001b[1;33m)\u001b[0m\u001b[1;33m]\u001b[0m\u001b[1;33m[\u001b[0m\u001b[1;34m'births_2015'\u001b[0m\u001b[1;33m]\u001b[0m\u001b[1;33m\u001b[0m\u001b[0m\n\u001b[0m\u001b[0;32m     20\u001b[0m \u001b[1;33m\u001b[0m\u001b[0m\n\u001b[0;32m     21\u001b[0m \u001b[1;33m\u001b[0m\u001b[0m\n",
      "\u001b[1;32m/usr/local/lib/python3.4/dist-packages/pandas/core/indexing.py\u001b[0m in \u001b[0;36m__getitem__\u001b[1;34m(self, key)\u001b[0m\n\u001b[0;32m   1225\u001b[0m             \u001b[1;32mreturn\u001b[0m \u001b[0mself\u001b[0m\u001b[1;33m.\u001b[0m\u001b[0m_getitem_tuple\u001b[0m\u001b[1;33m(\u001b[0m\u001b[0mkey\u001b[0m\u001b[1;33m)\u001b[0m\u001b[1;33m\u001b[0m\u001b[0m\n\u001b[0;32m   1226\u001b[0m         \u001b[1;32melse\u001b[0m\u001b[1;33m:\u001b[0m\u001b[1;33m\u001b[0m\u001b[0m\n\u001b[1;32m-> 1227\u001b[1;33m             \u001b[1;32mreturn\u001b[0m \u001b[0mself\u001b[0m\u001b[1;33m.\u001b[0m\u001b[0m_getitem_axis\u001b[0m\u001b[1;33m(\u001b[0m\u001b[0mkey\u001b[0m\u001b[1;33m,\u001b[0m \u001b[0maxis\u001b[0m\u001b[1;33m=\u001b[0m\u001b[1;36m0\u001b[0m\u001b[1;33m)\u001b[0m\u001b[1;33m\u001b[0m\u001b[0m\n\u001b[0m\u001b[0;32m   1228\u001b[0m \u001b[1;33m\u001b[0m\u001b[0m\n\u001b[0;32m   1229\u001b[0m     \u001b[1;32mdef\u001b[0m \u001b[0m_getitem_axis\u001b[0m\u001b[1;33m(\u001b[0m\u001b[0mself\u001b[0m\u001b[1;33m,\u001b[0m \u001b[0mkey\u001b[0m\u001b[1;33m,\u001b[0m \u001b[0maxis\u001b[0m\u001b[1;33m=\u001b[0m\u001b[1;36m0\u001b[0m\u001b[1;33m)\u001b[0m\u001b[1;33m:\u001b[0m\u001b[1;33m\u001b[0m\u001b[0m\n",
      "\u001b[1;32m/usr/local/lib/python3.4/dist-packages/pandas/core/indexing.py\u001b[0m in \u001b[0;36m_getitem_axis\u001b[1;34m(self, key, axis)\u001b[0m\n\u001b[0;32m   1342\u001b[0m             \u001b[1;32mreturn\u001b[0m \u001b[0mself\u001b[0m\u001b[1;33m.\u001b[0m\u001b[0m_get_slice_axis\u001b[0m\u001b[1;33m(\u001b[0m\u001b[0mkey\u001b[0m\u001b[1;33m,\u001b[0m \u001b[0maxis\u001b[0m\u001b[1;33m=\u001b[0m\u001b[0maxis\u001b[0m\u001b[1;33m)\u001b[0m\u001b[1;33m\u001b[0m\u001b[0m\n\u001b[0;32m   1343\u001b[0m         \u001b[1;32melif\u001b[0m \u001b[0mis_bool_indexer\u001b[0m\u001b[1;33m(\u001b[0m\u001b[0mkey\u001b[0m\u001b[1;33m)\u001b[0m\u001b[1;33m:\u001b[0m\u001b[1;33m\u001b[0m\u001b[0m\n\u001b[1;32m-> 1344\u001b[1;33m             \u001b[1;32mreturn\u001b[0m \u001b[0mself\u001b[0m\u001b[1;33m.\u001b[0m\u001b[0m_getbool_axis\u001b[0m\u001b[1;33m(\u001b[0m\u001b[0mkey\u001b[0m\u001b[1;33m,\u001b[0m \u001b[0maxis\u001b[0m\u001b[1;33m=\u001b[0m\u001b[0maxis\u001b[0m\u001b[1;33m)\u001b[0m\u001b[1;33m\u001b[0m\u001b[0m\n\u001b[0m\u001b[0;32m   1345\u001b[0m         \u001b[1;32melif\u001b[0m \u001b[0mis_list_like_indexer\u001b[0m\u001b[1;33m(\u001b[0m\u001b[0mkey\u001b[0m\u001b[1;33m)\u001b[0m\u001b[1;33m:\u001b[0m\u001b[1;33m\u001b[0m\u001b[0m\n\u001b[0;32m   1346\u001b[0m \u001b[1;33m\u001b[0m\u001b[0m\n",
      "\u001b[1;32m/usr/local/lib/python3.4/dist-packages/pandas/core/indexing.py\u001b[0m in \u001b[0;36m_getbool_axis\u001b[1;34m(self, key, axis)\u001b[0m\n\u001b[0;32m   1237\u001b[0m             \u001b[1;32mreturn\u001b[0m \u001b[0mself\u001b[0m\u001b[1;33m.\u001b[0m\u001b[0mobj\u001b[0m\u001b[1;33m.\u001b[0m\u001b[0mtake\u001b[0m\u001b[1;33m(\u001b[0m\u001b[0minds\u001b[0m\u001b[1;33m,\u001b[0m \u001b[0maxis\u001b[0m\u001b[1;33m=\u001b[0m\u001b[0maxis\u001b[0m\u001b[1;33m,\u001b[0m \u001b[0mconvert\u001b[0m\u001b[1;33m=\u001b[0m\u001b[1;32mFalse\u001b[0m\u001b[1;33m)\u001b[0m\u001b[1;33m\u001b[0m\u001b[0m\n\u001b[0;32m   1238\u001b[0m         \u001b[1;32mexcept\u001b[0m \u001b[0mException\u001b[0m \u001b[1;32mas\u001b[0m \u001b[0mdetail\u001b[0m\u001b[1;33m:\u001b[0m\u001b[1;33m\u001b[0m\u001b[0m\n\u001b[1;32m-> 1239\u001b[1;33m             \u001b[1;32mraise\u001b[0m \u001b[0mself\u001b[0m\u001b[1;33m.\u001b[0m\u001b[0m_exception\u001b[0m\u001b[1;33m(\u001b[0m\u001b[0mdetail\u001b[0m\u001b[1;33m)\u001b[0m\u001b[1;33m\u001b[0m\u001b[0m\n\u001b[0m\u001b[0;32m   1240\u001b[0m \u001b[1;33m\u001b[0m\u001b[0m\n\u001b[0;32m   1241\u001b[0m     \u001b[1;32mdef\u001b[0m \u001b[0m_get_slice_axis\u001b[0m\u001b[1;33m(\u001b[0m\u001b[0mself\u001b[0m\u001b[1;33m,\u001b[0m \u001b[0mslice_obj\u001b[0m\u001b[1;33m,\u001b[0m \u001b[0maxis\u001b[0m\u001b[1;33m=\u001b[0m\u001b[1;36m0\u001b[0m\u001b[1;33m)\u001b[0m\u001b[1;33m:\u001b[0m\u001b[1;33m\u001b[0m\u001b[0m\n",
      "\u001b[1;31mKeyError\u001b[0m: MemoryError()"
     ]
    }
   ],
   "source": [
    "birth_anonimisation = [ 'births_2002', 'births_2003', 'births_2004', 'births_2005', 'births_2006',\n",
    "                        'births_2007', 'births_2008', 'births_2009', 'births_2010', 'births_2011',\n",
    "                        'births_2012', 'births_2013', 'births_2014', 'births_2015']\n",
    "\n",
    "\n",
    "#age_change_components.loc[(age_change_components['births_2002'] < 100) & (age_change_components['age'] == 0)]['births_2002']\n",
    "#age_change_components.loc[(age_change_components['births_2003'] < 100) & (age_change_components['age'] == 0)]['births_2003']\n",
    "#age_change_components.loc[(age_change_components['births_2004'] < 100) & (age_change_components['age'] == 0)]['births_2004']\n",
    "#age_change_components.loc[(age_change_components['births_2005'] < 100) & (age_change_components['age'] == 0)]['births_2005']\n",
    "#age_change_components.loc[(age_change_components['births_2006'] < 100) & (age_change_components['age'] == 0)]['births_2006']\n",
    "#age_change_components.loc[(age_change_components['births_2007'] < 100) & (age_change_components['age'] == 0)]['births_2007']\n",
    "#age_change_components.loc[(age_change_components['births_2008'] < 100) & (age_change_components['age'] == 0)]['births_2008']\n",
    "#age_change_components.loc[(age_change_components['births_2009'] < 100) & (age_change_components['age'] == 0)]['births_2009']\n",
    "#age_change_components.loc[(age_change_components['births_2010'] < 100) & (age_change_components['age'] == 0)]['births_2010']\n",
    "#age_change_components.loc[(age_change_components['births_2011'] < 100) & (age_change_components['age'] == 0)]['births_2011']\n",
    "#age_change_components.loc[(age_change_components['births_2012'] < 100) & (age_change_components['age'] == 0)]['births_2012']\n",
    "#age_change_components.loc[(age_change_components['births_2013'] < 100) & (age_change_components['age'] == 0)]['births_2013']\n",
    "#age_change_components.loc[(age_change_components['births_2014'] < 100) & (age_change_components['age'] == 0)]['births_2014']\n",
    "age_change_components.loc[(age_change_components['births_2015'] < 100) & (age_change_components['age'] == 0)]['births_2015']\n",
    "\n",
    "\n"
   ]
  },
  {
   "cell_type": "markdown",
   "metadata": {},
   "source": [
    "# How significant are the columns:\n",
    "\n",
    "# \"special_change_20?? \"\n",
    "\n",
    "# \" unattrib_20??\"\n",
    "\n",
    "# \"other_adjust_20?? \""
   ]
  },
  {
   "cell_type": "code",
   "execution_count": null,
   "metadata": {
    "collapsed": false,
    "run_control": {
     "read_only": false
    }
   },
   "outputs": [],
   "source": [
    "age_change_components[['special_change_2002', 'special_change_2003', 'special_change_2004', 'special_change_2005', \n",
    "                       'special_change_2006', 'special_change_2007', 'special_change_2008', 'special_change_2009', \n",
    "                       'special_change_2010', 'special_change_2011', 'special_change_2012', 'special_change_2013', \n",
    "                       'special_change_2014', 'unattrib_2002', 'unattrib_2003', 'unattrib_2004', 'unattrib_2005', \n",
    "                       'unattrib_2006', 'unattrib_2007', 'unattrib_2008', 'unattrib_2009', 'unattrib_2010', \n",
    "                       'unattrib_2011', 'other_adjust_2002', 'other_adjust_2003', 'other_adjust_2004', \n",
    "                       'other_adjust_2005', 'other_adjust_2006', 'other_adjust_2007', 'other_adjust_2008', \n",
    "                       'other_adjust_2009', 'other_adjust_2010', 'other_adjust_2011', 'other_adjust_2012', \n",
    "                       'other_adjust_2013', 'other_adjust_2014', 'other_adjust_2015']].sum(axis=0).nlargest(20)"
   ]
  },
  {
   "cell_type": "code",
   "execution_count": null,
   "metadata": {
    "collapsed": false,
    "run_control": {
     "read_only": false
    }
   },
   "outputs": [],
   "source": [
    "\"\"\"\n",
    "age_change_components.groupby(['country'])[['special_change_2002', 'special_change_2003', 'special_change_2004', 'special_change_2005', \n",
    "                       'special_change_2006', 'special_change_2007', 'special_change_2008', 'special_change_2009', \n",
    "                       'special_change_2010', 'special_change_2011', 'special_change_2012', 'special_change_2013', \n",
    "                       'special_change_2014', 'unattrib_2002', 'unattrib_2003', 'unattrib_2004', 'unattrib_2005', \n",
    "                       'unattrib_2006', 'unattrib_2007', 'unattrib_2008', 'unattrib_2009', 'unattrib_2010', \n",
    "                       'unattrib_2011', 'other_adjust_2002', 'other_adjust_2003', 'other_adjust_2004', \n",
    "                       'other_adjust_2005', 'other_adjust_2006', 'other_adjust_2007', 'other_adjust_2008', \n",
    "                       'other_adjust_2009', 'other_adjust_2010', 'other_adjust_2011', 'other_adjust_2012', \n",
    "                       'other_adjust_2013', 'other_adjust_2014', 'other_adjust_2015']].sum()#.nlargest(20)\n",
    "\"\"\""
   ]
  },
  {
   "cell_type": "markdown",
   "metadata": {},
   "source": [
    "# Report the largest value (3701) but essentialy insignificant"
   ]
  },
  {
   "cell_type": "markdown",
   "metadata": {},
   "source": [
    "# and MYEB1"
   ]
  },
  {
   "cell_type": "code",
   "execution_count": null,
   "metadata": {
    "collapsed": false,
    "run_control": {
     "read_only": false
    }
   },
   "outputs": [],
   "source": [
    "# And the last one....\n",
    "\n",
    "est_population = pd.read_csv('/vagrant/notebooks/EMA/EMA_data/ukmye2015/MYEB1_detailed_population_estimates_series_UK.csv', \n",
    "                             encoding = 'ASCII')\n",
    "est_population[:2]\n",
    "# Grrrrr warning about mixed data types, check column 19"
   ]
  },
  {
   "cell_type": "code",
   "execution_count": null,
   "metadata": {
    "collapsed": false,
    "run_control": {
     "read_only": false
    }
   },
   "outputs": [],
   "source": [
    "# Try a conversion to numeric values and then find any non numeric values.\n",
    "\n",
    "est_population['population_2015'] = pd.to_numeric(est_population['population_2015'],errors = 'coerce')\n",
    "\n",
    "#est_population['population_2015'][~est_population['population_2015'].notnull()]\n",
    "\n",
    "len(est_population['population_2015'])#[:2]"
   ]
  },
  {
   "cell_type": "code",
   "execution_count": null,
   "metadata": {
    "collapsed": false,
    "run_control": {
     "read_only": false
    }
   },
   "outputs": [],
   "source": [
    "# To find the NaN rows so that they can be looked at.\n",
    "# Explore the rows that had the blank values to see what information is lost \n",
    "to_check = pd.isnull(est_population).any(1).nonzero()[0]"
   ]
  },
  {
   "cell_type": "code",
   "execution_count": null,
   "metadata": {
    "collapsed": false,
    "run_control": {
     "read_only": false
    }
   },
   "outputs": [],
   "source": [
    "#est_population.loc[to_check]\n",
    "est_population.loc[59331:61334]"
   ]
  },
  {
   "cell_type": "code",
   "execution_count": null,
   "metadata": {
    "collapsed": false,
    "run_control": {
     "read_only": false
    }
   },
   "outputs": [],
   "source": [
    "# Just exploring some of the non-numeric cells \n",
    "est_population.loc[59332:59342, :][:2]\n",
    "\n",
    "# Maybe Northen Ireland haven't returned 2015 counts?"
   ]
  },
  {
   "cell_type": "code",
   "execution_count": null,
   "metadata": {
    "collapsed": false,
    "run_control": {
     "read_only": false
    }
   },
   "outputs": [],
   "source": [
    "est_population.groupby(['country']).mean()#['population_2015'].sum()"
   ]
  },
  {
   "cell_type": "code",
   "execution_count": null,
   "metadata": {
    "collapsed": false,
    "run_control": {
     "read_only": false
    }
   },
   "outputs": [],
   "source": [
    "\n",
    "# test[change_to_num] = pd.to_numeric(test[change_to_num] ,errors='coerce')\n",
    "\n",
    "est_population['population_2015'] = pd.to_numeric(est_population['population_2015'],errors = 'coerce')\n",
    "#est_population['population_2015'].dtype\n",
    "\n",
    "est_population['population_2015'][~est_population['population_2015'].notnull()]\n"
   ]
  },
  {
   "cell_type": "code",
   "execution_count": null,
   "metadata": {
    "collapsed": false,
    "run_control": {
     "read_only": false
    }
   },
   "outputs": [],
   "source": [
    "est_population.dtypes"
   ]
  },
  {
   "cell_type": "code",
   "execution_count": null,
   "metadata": {
    "collapsed": false,
    "run_control": {
     "read_only": false
    }
   },
   "outputs": [],
   "source": [
    "# The data is not formated correctly....object suggest strings so test for numeric values\n",
    "\n",
    "# This cell is to check that the values are numbers and returns count of rows that are not numeric\n",
    "#change_components.set_index('lad2014_name', inplace=True)\n",
    "test = change_components.drop(['lad2014_code', 'lad2014_name', 'country'], axis=1, inplace= False)\n",
    "\n",
    "test[~test.applymap(np.isreal).all(1)]\n",
    "\n",
    "# Looks like the majority(or all) rows that I need are not numeric values."
   ]
  },
  {
   "cell_type": "markdown",
   "metadata": {},
   "source": [
    "# move the cell below when i think it's worked"
   ]
  },
  {
   "cell_type": "code",
   "execution_count": null,
   "metadata": {
    "collapsed": false,
    "run_control": {
     "read_only": false
    }
   },
   "outputs": [],
   "source": [
    "change_components.loc[325:338,'births_2015':'population_2015']"
   ]
  },
  {
   "cell_type": "markdown",
   "metadata": {},
   "source": [
    "# below has not worked"
   ]
  },
  {
   "cell_type": "markdown",
   "metadata": {},
   "source": [
    "# need this cell and one below to clean but need to explain how i know about :'s"
   ]
  },
  {
   "cell_type": "code",
   "execution_count": null,
   "metadata": {
    "collapsed": false,
    "run_control": {
     "read_only": false
    }
   },
   "outputs": [],
   "source": [
    "\n",
    "\n",
    "change_to_num = ['population_2001', 'births_2002', 'deaths_2002', 'natchange_2002', 'internal_in_2002', \n",
    "          'internal_out_2002', 'internal_net_2002', 'international_in_2002', 'international_out_2002', \n",
    "          'international_net_2002', 'other_change_2002', 'population_2002', 'births_2003', \n",
    "          'deaths_2003', 'natchange_2003', 'internal_in_2003', 'internal_out_2003', 'internal_net_2003', \n",
    "          'international_in_2003', 'international_out_2003', 'international_net_2003', 'other_change_2003',\n",
    "          'population_2003', 'births_2004', 'deaths_2004', 'natchange_2004', 'internal_in_2004', \n",
    "          'internal_out_2004', 'internal_net_2004', 'international_in_2004', 'international_out_2004', \n",
    "          'international_net_2004', 'other_change_2004', 'population_2004', 'births_2005', 'deaths_2005',\n",
    "           'natchange_2005', 'internal_in_2005', 'internal_out_2005', 'internal_net_2005', \n",
    "          'international_in_2005', 'international_out_2005', 'international_net_2005', \n",
    "          'other_change_2005', 'population_2005', 'births_2006', 'deaths_2006', 'natchange_2006',\n",
    "           'internal_in_2006', 'internal_out_2006', 'internal_net_2006', 'international_in_2006',\n",
    "           'international_out_2006', 'international_net_2006', 'other_change_2006', 'population_2006',\n",
    "           'births_2007', 'deaths_2007', 'natchange_2007', 'internal_in_2007', 'internal_out_2007',\n",
    "           'internal_net_2007', 'international_in_2007', 'international_out_2007', 'international_net_2007',\n",
    "           'other_change_2007', 'population_2007', 'births_2008', 'deaths_2008', 'natchange_2008',\n",
    "           'internal_in_2008', 'internal_out_2008', 'internal_net_2008', 'international_in_2008', \n",
    "          'international_out_2008', 'international_net_2008', 'other_change_2008', 'population_2008', \n",
    "          'births_2009', 'deaths_2009', 'natchange_2009', 'internal_in_2009', 'internal_out_2009', \n",
    "          'internal_net_2009', 'international_in_2009', 'international_out_2009', \n",
    "          'international_net_2009', 'other_change_2009', 'population_2009', 'births_2010', 'deaths_2010',\n",
    "          'natchange_2010', 'internal_in_2010', 'internal_out_2010', 'internal_net_2010', \n",
    "          'international_in_2010', 'international_out_2010', 'international_net_2010', \n",
    "          'other_change_2010', 'population_2010', 'births_2011', 'deaths_2011', 'natchange_2011', \n",
    "          'internal_in_2011', 'internal_out_2011', 'internal_net_2011', 'international_in_2011',\n",
    "           'international_out_2011', 'international_net_2011', 'other_change_2011', 'population_2011', \n",
    "          'births_2012', 'deaths_2012', 'natchange_2012', 'internal_in_2012', 'internal_out_2012', \n",
    "          'internal_net_2012', 'international_in_2012', 'international_out_2012', 'international_net_2012',\n",
    "          'other_change_2012', 'population_2012', 'births_2013', 'deaths_2013', 'natchange_2013', \n",
    "          'internal_in_2013', 'internal_out_2013', 'internal_net_2013', 'international_in_2013', \n",
    "          'international_out_2013', 'international_net_2013', 'other_change_2013', 'population_2013', \n",
    "          'births_2014', 'deaths_2014', 'natchange_2014', 'internal_in_2014', 'internal_out_2014', \n",
    "          'internal_net_2014', 'international_in_2014', 'international_out_2014', 'international_net_2014', \n",
    "          'other_change_2014', 'population_2014', 'births_2015', 'deaths_2015', 'natchange_2015', \n",
    "          'internal_in_2054', 'internal_out_2015', 'internal_net_2015', 'international_in_2015', \n",
    "          'international_out_2015', 'international_net_2015', 'other_change_2015', 'population_2015']\n"
   ]
  },
  {
   "cell_type": "code",
   "execution_count": null,
   "metadata": {
    "collapsed": false,
    "run_control": {
     "read_only": false
    }
   },
   "outputs": [],
   "source": [
    "# test.apply(pd.to_numeric(test, errors= 'coerce'))\n",
    "\n",
    "test[change_to_num] = pd.to_numeric(test[change_to_num] ,errors='coerce')\n",
    "\n",
    "test[~test.applymap(np.isreal).all(1)]"
   ]
  },
  {
   "cell_type": "code",
   "execution_count": null,
   "metadata": {
    "collapsed": false,
    "run_control": {
     "read_only": false
    }
   },
   "outputs": [],
   "source": [
    "change_components.dtypes"
   ]
  },
  {
   "cell_type": "code",
   "execution_count": null,
   "metadata": {
    "collapsed": false,
    "run_control": {
     "read_only": false
    }
   },
   "outputs": [],
   "source": [
    "\n",
    "\n",
    "change_components.columns.str.replace(',','')\n",
    "#cause_of_change.columns.str.replace(':','')\n",
    "change_components.replace(r':', np.nan, inplace=True, regex=True )\n",
    "\n",
    "\n",
    "pd.to_numeric(change_components[change_to_num], errors= 'coerce')"
   ]
  },
  {
   "cell_type": "code",
   "execution_count": null,
   "metadata": {
    "collapsed": false,
    "run_control": {
     "read_only": false
    }
   },
   "outputs": [],
   "source": [
    "test = change_components.drop(['lad2014_code', 'lad2014_name', 'country'], axis=1, inplace= False)\n",
    "\n",
    "test[~test.applymap(np.isreal).all(1)]"
   ]
  },
  {
   "cell_type": "code",
   "execution_count": null,
   "metadata": {
    "collapsed": false,
    "run_control": {
     "read_only": false
    }
   },
   "outputs": [],
   "source": [
    "test[change_to_num] = test[change_to_num].apply(pd.to_numeric)\n",
    "test"
   ]
  },
  {
   "cell_type": "code",
   "execution_count": null,
   "metadata": {
    "collapsed": false,
    "run_control": {
     "read_only": false
    }
   },
   "outputs": [],
   "source": [
    "change_components.applymap(lambda x: isinstance(x, (int,float)))"
   ]
  },
  {
   "cell_type": "code",
   "execution_count": null,
   "metadata": {
    "collapsed": false,
    "run_control": {
     "read_only": false
    }
   },
   "outputs": [],
   "source": [
    "# CHECK IF COERCE HAS CHANGED THE \":\" TO NaN's.....\n",
    "change_components.loc[325:338,'births_2015':'population_2015']"
   ]
  },
  {
   "cell_type": "code",
   "execution_count": null,
   "metadata": {
    "collapsed": false,
    "run_control": {
     "read_only": false
    }
   },
   "outputs": [],
   "source": [
    "change_components.dtypes"
   ]
  },
  {
   "cell_type": "code",
   "execution_count": null,
   "metadata": {
    "collapsed": false,
    "run_control": {
     "read_only": false
    }
   },
   "outputs": [],
   "source": [
    "##\n",
    "\n",
    "test = change_components.drop(['lad2014_code', 'lad2014_name', 'country'], axis=1, inplace= False)\n",
    "\n",
    "len(test[~test.applymap(np.isreal).all(1)])#[:2]"
   ]
  },
  {
   "cell_type": "code",
   "execution_count": null,
   "metadata": {
    "collapsed": false,
    "run_control": {
     "read_only": false
    }
   },
   "outputs": [],
   "source": [
    "test['births_2002'][29:360]\n",
    "# some columns have comma's.....remove from the data\n",
    "\n"
   ]
  },
  {
   "cell_type": "code",
   "execution_count": null,
   "metadata": {
    "collapsed": false,
    "run_control": {
     "read_only": false
    }
   },
   "outputs": [],
   "source": [
    "test.columns.str.replace(',','')\n",
    "#cause_of_change.columns.str.replace(':','')\n",
    "#change_components.replace(r':', np.nan, inplace=True, regex=True )\n",
    "\n",
    "\n",
    "pd.to_numeric(test[change_to_num], errors= 'coerce')"
   ]
  },
  {
   "cell_type": "code",
   "execution_count": null,
   "metadata": {
    "collapsed": false,
    "run_control": {
     "read_only": false
    }
   },
   "outputs": [],
   "source": [
    "len(test[~test.applymap(np.isreal).all(1)])#[:2]"
   ]
  },
  {
   "cell_type": "markdown",
   "metadata": {},
   "source": [
    "### Check the area code from the brexit data set matches the \"lad2014_code\""
   ]
  },
  {
   "cell_type": "markdown",
   "metadata": {},
   "source": [
    "### The \"lad2014_code\" and \"Area\" code for Brexit could be a great place to join data!"
   ]
  },
  {
   "cell_type": "markdown",
   "metadata": {},
   "source": [
    "# Check and load population information into dataframe"
   ]
  },
  {
   "cell_type": "code",
   "execution_count": null,
   "metadata": {
    "collapsed": false,
    "run_control": {
     "read_only": false
    }
   },
   "outputs": [],
   "source": [
    "!file /vagrant/notebooks/EMA/EMA_data/ukmye2015/MYEB3_summary_components_of_change_series_UK.csv"
   ]
  },
  {
   "cell_type": "code",
   "execution_count": null,
   "metadata": {
    "collapsed": false,
    "run_control": {
     "read_only": false
    }
   },
   "outputs": [],
   "source": [
    "!head -1 MYEB3_summary_components_of_change_series_UK.csv"
   ]
  },
  {
   "cell_type": "code",
   "execution_count": null,
   "metadata": {
    "collapsed": false,
    "run_control": {
     "read_only": false
    }
   },
   "outputs": [],
   "source": [
    "# Head command out put looks odd.....\n",
    "\n",
    "census_migration_df = pd.read_csv('/vagrant/notebooks/EMA/EMA_data/ukmye2015/MYEB3_summary_components_of_change_series_UK.csv', \n",
    "                        encoding = 'ASCII')\n",
    "census_migration_df[:5].T"
   ]
  },
  {
   "cell_type": "code",
   "execution_count": null,
   "metadata": {
    "collapsed": false,
    "run_control": {
     "read_only": false
    },
    "scrolled": false
   },
   "outputs": [],
   "source": [
    "list(census_migration_df)"
   ]
  },
  {
   "cell_type": "code",
   "execution_count": null,
   "metadata": {
    "collapsed": false,
    "run_control": {
     "read_only": false
    }
   },
   "outputs": [],
   "source": [
    "#census_migration_df.isnull().values.any()"
   ]
  },
  {
   "cell_type": "markdown",
   "metadata": {
    "collapsed": true,
    "run_control": {
     "read_only": false
    }
   },
   "source": [
    "# Think what the questions are????\n",
    "\n",
    "[for population data] how if at all has immigration changed the age profile of areas/regions of the UK between 02 & 15?\n",
    "\n",
    "so I need to:\n",
    "\n",
    "work out how I'm going to profile the age in the first place!\n",
    "+ summary stats/boxplot  ## less detail##\n",
    "+ histogram   ## more detail##\n",
    "+ scatter plot   ## more detail##\n",
    "    x = bins of age groups 0-4, 5-9, 10-14, ...\n",
    "    y = counts of population [may need to be standardised]\n",
    "\n",
    "Make the comparasons for both region and area. and report are areas with high immigration showing higher increace in population change? e.g. Is there a correlation between areas of high migration and an increase in the proportion of working age population and children[assuming that polish agricultural workers will be having families in the east]\n",
    "\n",
    "What is immigration like in Cornwall? How has the age profile of Cornwall changed in time period?"
   ]
  },
  {
   "cell_type": "markdown",
   "metadata": {
    "collapsed": true,
    "run_control": {
     "read_only": false
    }
   },
   "source": [
    "# What the different data sets are...\n",
    "\n",
    "### MYE1_population_summary_for_UK.xls ~~\n",
    "\n",
    "Break down of age{0-4, 5-9, 10-14,...} for UK, GB, England and wales, England, Wales, Scotland and Northen Ireland.\n",
    "\n",
    "### MYE2_population_by_sex_and_age_for_local_authorities_UK.xls ~~\n",
    "\n",
    "Population counts for each voting area/district, Region of UK, part of UK. All broken down by Male, Female and combined and given for ages 0-90 (in 1 year increments).  \n",
    "\n",
    "### MYE3_population_change_for_local_authorities_UK.xls ~~\n",
    "\n",
    "Population change counts for each voting area/district, Region of UK, part of UK. Broken down as components of change e.g. Births, Deaths, Internal migration inflow, Internal migration outflow, etc....\n",
    "\n",
    "\n",
    "\n",
    "\n",
    "### MYE4_population_summary_for_UK_countries_(7115).xls\n",
    "\n",
    "Population changes annual from mid 1971 to mid 2015. Broken down as UK, GB, England and Wales, England, Wales, Scotland and Northen Ireland\n",
    "\n",
    "\n",
    "### MYE5_population_density_series_UK_(0115).xls\n",
    "\n",
    "Population counts and \"People per sq km\" for each voting area/district, Region of UK, part of UK. For year by year from 2001 to 2015\n",
    "\n",
    "\n",
    "\n",
    "### MYEB1_detailed_population_estimates_series_UK.csv\n",
    "\n",
    "Population counts for each voting area/district. Broken down by Male, Female and combined and given for ages 0-90 (in 1 year increments). Covers time from 2001 to 2015\n",
    "\n",
    "### MYEB2_detailed_components_of_change_series_EW.csv\n",
    "\n",
    "Population change counts for each voting area/district, Region of UK, part of UK. Broken down by Male, Female and combined and given for ages 0-90 (in 1 year increments). Info given on Births, Deaths, Internal migration inflow, Internal migration outflow, etc.... Covers period 2002 to 2015.\n",
    "\n",
    "### MYEB3_summary_components_of_change_series_UK.csv\n",
    "\n",
    "Components of change broken down to area/district level. from 2001 to 2015\n",
    "\n",
    "\n",
    "### MYEB_information_note.pdf\n",
    "\n",
    "\n",
    "\n",
    "\n",
    "\n"
   ]
  },
  {
   "cell_type": "code",
   "execution_count": null,
   "metadata": {
    "collapsed": false,
    "run_control": {
     "read_only": false
    }
   },
   "outputs": [],
   "source": [
    "test_size_df = pd.read_csv('/vagrant/notebooks/EMA/EMA_data/ukmye2015/MYEB2_detailed_components_of_change_series_EW.csv', \n",
    "                        encoding = 'ASCII')\n",
    "test_size_df[:2]"
   ]
  },
  {
   "cell_type": "code",
   "execution_count": null,
   "metadata": {
    "collapsed": false,
    "run_control": {
     "read_only": false
    }
   },
   "outputs": [],
   "source": [
    "census_age_df = pd.read_csv('/vagrant/notebooks/EMA/EMA_data/ukmye2015/MYEB1_detailed_population_estimates_series_UK.csv', \n",
    "                        encoding = 'ASCII')\n",
    "census_age_df[:5].T"
   ]
  },
  {
   "cell_type": "code",
   "execution_count": null,
   "metadata": {
    "collapsed": false,
    "run_control": {
     "read_only": false
    }
   },
   "outputs": [],
   "source": [
    "# Gust make df to look at changes in population over 15 years by constituants of UK\n",
    "\n",
    "# THIS NOT WORKED ON START UP~~~~ BECAUSE THE RELEVANT CODE IS BELOW\n",
    "\n",
    "\n",
    "national_changes = census_age_df.groupby(['country']).sum()\n",
    "national_changes = national_changes.drop(['sex', 'Age'], axis = 1)\n",
    "\n",
    "national_changes.T "
   ]
  },
  {
   "cell_type": "code",
   "execution_count": null,
   "metadata": {
    "collapsed": false,
    "run_control": {
     "read_only": false
    }
   },
   "outputs": [],
   "source": [
    "national_changes.ix['E'].plot()\n",
    "national_changes.ix['N'].plot()\n",
    "national_changes.ix['S'].plot()\n",
    "national_changes.ix['W'].plot(rot=90, figsize=(9.5,5), grid=True)"
   ]
  },
  {
   "cell_type": "code",
   "execution_count": null,
   "metadata": {
    "collapsed": false,
    "run_control": {
     "read_only": false
    }
   },
   "outputs": [],
   "source": [
    "summary_df = pd.read_excel( '/vagrant/notebooks/EMA/EMA_data/ukmye2015/MYE4_population_summary_for_UK_countries_7115.xls', \n",
    "                           sheetname='Summary UK and countries', skiprows = 2, skip_footer = 286)\n",
    "\n",
    "summary_df.drop(['Code'],inplace=True, axis=1)\n",
    "\n",
    "summary_df\n",
    "#summary_df"
   ]
  },
  {
   "cell_type": "markdown",
   "metadata": {},
   "source": [
    "# Importing the xls file to extract the region data/key"
   ]
  },
  {
   "cell_type": "code",
   "execution_count": null,
   "metadata": {
    "collapsed": false,
    "run_control": {
     "read_only": false
    },
    "scrolled": true
   },
   "outputs": [],
   "source": [
    "region_key = pd.read_excel(\"/vagrant/notebooks/EMA/EMA_data/ukmye2015/MYE3_population_change_for_local_authorities_UK.xls\",\n",
    "                           sheetname=\"Components of Change\", skiprows=6, parse_cols=1)\n",
    "region_key['region_code'] = region_key['E92000001']\n",
    "region_key['lad2014_name'] = region_key['ENGLAND']\n",
    "\n",
    "#region_key.drop(['E92000001'], axis=1, inplace= True)\n",
    "region_key.drop(['ENGLAND', 'E92000001'], axis=1, inplace= True)\n",
    "region_key"
   ]
  },
  {
   "cell_type": "code",
   "execution_count": null,
   "metadata": {
    "collapsed": false,
    "run_control": {
     "read_only": false
    }
   },
   "outputs": [],
   "source": [
    "MYEB3 = pd.read_csv('/vagrant/notebooks/EMA/EMA_data/ukmye2015/MYEB3_summary_components_of_change_series_UK.csv', \n",
    "                        encoding = 'ASCII',thousands=',', usecols=['lad2014_code', 'lad2014_name', 'country'])\n",
    "\n",
    "MYEB3['Region'] = ''\n",
    "\n",
    "list(MYEB3)\n"
   ]
  },
  {
   "cell_type": "code",
   "execution_count": null,
   "metadata": {
    "collapsed": false,
    "run_control": {
     "read_only": false
    }
   },
   "outputs": [],
   "source": [
    "MYEB3['Region'][:2]"
   ]
  },
  {
   "cell_type": "code",
   "execution_count": null,
   "metadata": {
    "collapsed": false,
    "run_control": {
     "read_only": false
    },
    "scrolled": false
   },
   "outputs": [],
   "source": [
    "# Merge them\n",
    "# suffixes=('_CC', '_VR') are used to find duplicates\n",
    "# \n",
    "\n",
    "find_region_key = pd.merge(region_key, MYEB3, on='lad2014_name', how='outer', suffixes=('_CC', '_VR'))\n",
    "\n",
    "#find_region_key = pd.merge(find_region_key, VR_key ,on='lad2014_name', how='outer', suffixes=('_CC', '_VR'))\n",
    "# df[df['first_name'].notnull() & (df['nationality'] == \"USA\")]\n",
    "\n",
    "find_region_key[:2]#['region_code']#.dtype#[find_region_key['country'].isnull()]\n"
   ]
  },
  {
   "cell_type": "markdown",
   "metadata": {},
   "source": [
    "# Try a different approach ~ make a function to edit then apply()\n",
    "\n",
    "# Only needs to be England as only split to regions"
   ]
  },
  {
   "cell_type": "code",
   "execution_count": null,
   "metadata": {
    "collapsed": false,
    "run_control": {
     "read_only": false
    },
    "scrolled": true
   },
   "outputs": [],
   "source": [
    "find_region_key['region_code'] = find_region_key['region_code'].astype(str)\n",
    "h = ''\n",
    "j = ''\n",
    "\n",
    "for index, row in find_region_key.iterrows():\n",
    "    h = row.region_code\n",
    "    if h == 'E12000001':\n",
    "        print(h)\n"
   ]
  },
  {
   "cell_type": "code",
   "execution_count": null,
   "metadata": {
    "collapsed": false,
    "run_control": {
     "read_only": false
    },
    "scrolled": false
   },
   "outputs": [],
   "source": [
    "# ##### GOT THIS MAKING CHANGES \n",
    "\n",
    "# BUT WANT TO LEAVE OTHERS ALONE\n",
    "\n",
    "the_region = ''\n",
    "\n",
    "find_region_key['Region'].astype(str)\n",
    "find_region_key['region_code'].astype(str)\n",
    "\n",
    "for index, row in find_region_key.iterrows():\n",
    "    if re.search('^E', row.region_code):\n",
    "\n",
    "    ##matchEngland = re.search('^E', row.region_code)\n",
    "    ##if matchEngland:\n",
    "        matchObject = re.search('^E12', row.region_code)\n",
    "        if matchObject:\n",
    "            the_region = row.region_code\n",
    "        else:\n",
    "            pass\n",
    "        row.Region = the_region\n",
    "    else:\n",
    "        row.Region = ''\n",
    "\n",
    "find_region_key[:15]"
   ]
  },
  {
   "cell_type": "code",
   "execution_count": null,
   "metadata": {
    "collapsed": false,
    "run_control": {
     "read_only": false
    },
    "scrolled": true
   },
   "outputs": [],
   "source": [
    "# ##### GOT THIS MAKING CHANGES \n",
    "\n",
    "the_region = ''#''''E12000001'\n",
    "\n",
    "find_region_key['Region'].astype(str)\n",
    "find_region_key['region_code'].astype(str)\n",
    "\n",
    "for index, row in find_region_key.iterrows():\n",
    "    #h = row.region_code\n",
    "    matchEngland = re.search('^E', row.region_code)\n",
    "    if matchEngland:\n",
    "        matchObject = re.search('^E12', row.region_code)\n",
    "        if matchObject:\n",
    "            the_region = row.region_code\n",
    "        else:\n",
    "            pass\n",
    "        row.Region = the_region\n",
    "    else:\n",
    "        pass\n",
    "\n",
    "find_region_key"
   ]
  },
  {
   "cell_type": "code",
   "execution_count": null,
   "metadata": {
    "collapsed": false,
    "run_control": {
     "read_only": false
    },
    "scrolled": false
   },
   "outputs": [],
   "source": []
  },
  {
   "cell_type": "markdown",
   "metadata": {},
   "source": [
    "# HERE HERE HERE\n",
    "\n",
    "# HERE HERE HERE\n",
    "\n",
    "# HERE HERE HERE\n",
    "\n",
    "# HERE HERE HERE\n",
    "\n",
    "# HERE HERE HERE\n",
    "\n",
    "# HERE HERE HERE\n",
    "\n",
    "# HERE HERE HERE\n",
    "\n",
    "# HERE HERE HERE\n",
    "\n",
    "# HERE HERE HERE\n",
    "\n",
    "# HERE HERE HERE\n",
    "\n",
    "# HERE HERE HERE"
   ]
  },
  {
   "cell_type": "code",
   "execution_count": null,
   "metadata": {
    "collapsed": false,
    "run_control": {
     "read_only": false
    },
    "scrolled": false
   },
   "outputs": [],
   "source": []
  },
  {
   "cell_type": "code",
   "execution_count": null,
   "metadata": {
    "collapsed": false,
    "run_control": {
     "read_only": false
    }
   },
   "outputs": [],
   "source": [
    "VR_key = pd.read_csv('/vagrant/notebooks/EMA/EMA_data/EU-referendum-result-data.csv', \n",
    "                             encoding = 'ASCII', usecols=['Area','Region_Code'])\n",
    "\n",
    "\n",
    "VR_key['lad2014_name'] = VR_key['Area']\n",
    "VR_key['VR_lad2014_name'] = VR_key['Area']\n",
    "VR_key['VR_Area'] = VR_key['Area']\n",
    "VR_key['VR_Region_Code'] = VR_key['Region_Code']\n",
    "\n",
    "VR_key.drop(['Region_Code','Area'], axis=1, inplace= True)\n",
    "\n",
    "\n",
    "\n",
    "VR_key[:2]#.T"
   ]
  },
  {
   "cell_type": "code",
   "execution_count": null,
   "metadata": {
    "collapsed": true,
    "run_control": {
     "read_only": false
    }
   },
   "outputs": [],
   "source": []
  },
  {
   "cell_type": "code",
   "execution_count": null,
   "metadata": {
    "collapsed": true,
    "run_control": {
     "read_only": false
    }
   },
   "outputs": [],
   "source": []
  },
  {
   "cell_type": "code",
   "execution_count": null,
   "metadata": {
    "collapsed": false,
    "run_control": {
     "read_only": false
    }
   },
   "outputs": [],
   "source": [
    "#if region_key['region_code'].str[:1] == 'N':\n",
    "#    region_key['Region'] = 'N92000002'\n",
    "    \n",
    "region_key['region_code'].str[:1] == 'N' region_key['Region'] = 'N92000002'"
   ]
  },
  {
   "cell_type": "code",
   "execution_count": null,
   "metadata": {
    "collapsed": true,
    "run_control": {
     "read_only": false
    }
   },
   "outputs": [],
   "source": [
    "# Merge them\n",
    "# suffixes=('_CC', '_VR') are used to find duplicates\n",
    "# \n",
    "\n",
    "find_region_key = pd.merge(region_key, MYEB3, on='lad2014_name', how='outer', suffixes=('_CC', '_VR'))\n",
    "# df[df['first_name'].notnull() & (df['nationality'] == \"USA\")]\n",
    "\n",
    "find_region_key[find_region_key['country'].isnull()]"
   ]
  },
  {
   "cell_type": "code",
   "execution_count": null,
   "metadata": {
    "collapsed": false,
    "run_control": {
     "read_only": false
    },
    "scrolled": true
   },
   "outputs": [],
   "source": [
    "#df = pd.DataFrame([['BULL APPLE X5',''],['BEAR APPLE X5',''],['BULL APPLE X5','']], columns=['A','B'])\n",
    "\n",
    "#find_region_key['Region'] = df['region_code'].map(lambda x: 'N92000002' if region_key[['region_code']].str[:1] == 'N')\n",
    "\n",
    "find_region_key['Region'][find_region_key['region_code'].str[:1]=='N'] = 'N92000002'"
   ]
  },
  {
   "cell_type": "markdown",
   "metadata": {
    "collapsed": true,
    "run_control": {
     "read_only": false
    }
   },
   "source": [
    "# An atempt at saving a dataframe as txt/spreadsheet"
   ]
  },
  {
   "cell_type": "code",
   "execution_count": null,
   "metadata": {
    "collapsed": true,
    "run_control": {
     "read_only": false
    }
   },
   "outputs": [],
   "source": [
    "# Ha, export as and excel compatable sheet [the top one] + the web link\n",
    "# http://stackoverflow.com/questions/31247198/python-pandas-write-content-of-dataframe-into-text-file\n",
    "\n",
    "np.savetxt(r'/vagrant/notebooks/EMA/EMA_data/np.txt', summary.values, fmt='%d')\n",
    "\n",
    "summary.to_csv(r'/vagrant/notebooks/EMA/EMA_data/summary.csv', header=None, index=None, sep=' ', mode='a')\n",
    "\n",
    "#G:\\TM351[dataManagementAndAnalysis]\\ALL_EMA\\WORK_ON_EMA"
   ]
  },
  {
   "cell_type": "code",
   "execution_count": null,
   "metadata": {
    "collapsed": true,
    "run_control": {
     "read_only": false
    }
   },
   "outputs": [],
   "source": []
  },
  {
   "cell_type": "code",
   "execution_count": null,
   "metadata": {
    "collapsed": true,
    "run_control": {
     "read_only": false
    }
   },
   "outputs": [],
   "source": []
  },
  {
   "cell_type": "markdown",
   "metadata": {
    "collapsed": true,
    "run_control": {
     "read_only": false
    }
   },
   "source": [
    "# To find colours for plotting!"
   ]
  },
  {
   "cell_type": "code",
   "execution_count": null,
   "metadata": {
    "collapsed": true,
    "run_control": {
     "read_only": false
    }
   },
   "outputs": [],
   "source": [
    "# To find colours for plotting\n",
    "\n",
    "for name, hex in mpl.colors.cnames.items():\n",
    "    print(name, hex)"
   ]
  },
  {
   "cell_type": "markdown",
   "metadata": {},
   "source": [
    "# To see the colours and labels"
   ]
  },
  {
   "cell_type": "code",
   "execution_count": 3,
   "metadata": {
    "collapsed": false,
    "run_control": {
     "read_only": false
    }
   },
   "outputs": [
    {
     "data": {
      "image/png": "[encoded data removed]",
      "text/plain": [
       "<matplotlib.figure.Figure at 0xaf03c3ac>"
      ]
     },
     "metadata": {},
     "output_type": "display_data"
    }
   ],
   "source": [
    "import matplotlib.patches as patches\n",
    "import matplotlib.colors as colors\n",
    "import math\n",
    "\n",
    "\n",
    "fig = plt.figure(figsize=(20,25))\n",
    "ax = fig.add_subplot(111)\n",
    "\n",
    "ratio = 1.0 / 3.0\n",
    "count = math.ceil(math.sqrt(len(colors.cnames)))\n",
    "x_count = count * ratio\n",
    "y_count = count / ratio\n",
    "x = 0\n",
    "y = 0\n",
    "w = 1 / x_count\n",
    "h = 1 / y_count\n",
    "\n",
    "for c in colors.cnames:\n",
    "    pos = (x / x_count, y / y_count)\n",
    "    ax.add_patch(patches.Rectangle(pos, w, h, color=c))\n",
    "    ax.annotate(c, xy=pos)\n",
    "    if y >= y_count-1:\n",
    "        x += 1\n",
    "        y = 0\n",
    "    else:\n",
    "        y += 1\n",
    "\n",
    "plt.show()"
   ]
  },
  {
   "cell_type": "markdown",
   "metadata": {},
   "source": [
    "# plotting multi plots on the same figure"
   ]
  },
  {
   "cell_type": "code",
   "execution_count": null,
   "metadata": {
    "collapsed": true
   },
   "outputs": [],
   "source": [
    "# c1.31 DUPLICATE\n",
    "\n",
    "# nrows = number of rows, ncols= number of columns, squeeze= something about flattening out the numpy return...\n",
    "fig, axes = plt.subplots(nrows=3, ncols=1,squeeze=False)\n",
    "\n",
    "age_change_components.groupby(['Segments'\n",
    "                              ]).sum().plot.bar(y= ['population_2002', \n",
    "                                                    'population_2015'\n",
    "                                                   ],\n",
    "                                                figsize=(10,15),\n",
    "                                                fontsize=10,\n",
    "                                                ax=axes[0,0]\n",
    "                                                # Guessing line below says where in the plot (+ title)\n",
    "                                               ); axes[0,0].set_title('Population change 2002-15 combined for England and Wales')\n",
    "\n",
    "\n",
    "########################################################################################################\n",
    "age_change_components[age_change_components['country'\n",
    "                                           ] == 'E'].groupby(['Segments'\n",
    "                                                             ]).sum().plot.bar(y= ['population_2002', \n",
    "                                                                                   'population_2015'\n",
    "                                                                                  ],\n",
    "                                                                               legend= False,\n",
    "                                                                               figsize=(10,15),\n",
    "                                                                              # Guessing line below says where in the plot (+ title)\n",
    "                                                                               ax=axes[1,0]); axes[1,0].set_title('England')\n",
    "\n",
    "\n",
    "############################################################################################################\n",
    "\n",
    "age_change_components[age_change_components['country'\n",
    "                                           ] == 'W'].groupby(['Segments'\n",
    "                                                             ]).sum().plot.bar(y= ['population_2002', \n",
    "                                                                                   'population_2015'\n",
    "                                                                                  ],\n",
    "                                                                               legend= False,\n",
    "                                                                               figsize=(10,15),\n",
    "                                                                               # Guessing line below says where in the plot (+ title)\n",
    "                                                                               ax=axes[2,0]); axes[2,0].set_title('Wales')\n",
    "\n",
    "################################################################################################################\n",
    "\n",
    "\n",
    "plt.show()"
   ]
  },
  {
   "cell_type": "code",
   "execution_count": null,
   "metadata": {
    "collapsed": true,
    "run_control": {
     "read_only": false
    }
   },
   "outputs": [],
   "source": []
  },
  {
   "cell_type": "code",
   "execution_count": null,
   "metadata": {
    "collapsed": true,
    "run_control": {
     "read_only": false
    }
   },
   "outputs": [],
   "source": [
    "linewidth=50, linestyle=\"-\", c=\"blue\""
   ]
  },
  {
   "cell_type": "markdown",
   "metadata": {},
   "source": [
    "# check a numeric column that might be contaminated with strings"
   ]
  },
  {
   "cell_type": "code",
   "execution_count": null,
   "metadata": {
    "collapsed": true,
    "run_control": {
     "read_only": false
    }
   },
   "outputs": [],
   "source": [
    "# Check a numeric column that might be contaminated with strings\n",
    "change_components['2015 people per sq. km'].apply(lambda x: isinstance(x, (int, float))).unique()"
   ]
  },
  {
   "cell_type": "markdown",
   "metadata": {
    "collapsed": true,
    "run_control": {
     "read_only": false
    }
   },
   "source": [
    "# Make a correlation matrix"
   ]
  },
  {
   "cell_type": "code",
   "execution_count": null,
   "metadata": {
    "collapsed": true,
    "run_control": {
     "read_only": false
    }
   },
   "outputs": [],
   "source": [
    "# Make a correlation matrix\n",
    "combined_df[['Pct_Leave','pct_deaths']].corr(method='pearson')"
   ]
  },
  {
   "cell_type": "markdown",
   "metadata": {},
   "source": [
    "# Unique values in a column as a list"
   ]
  },
  {
   "cell_type": "code",
   "execution_count": null,
   "metadata": {
    "collapsed": true,
    "run_control": {
     "read_only": false
    }
   },
   "outputs": [],
   "source": [
    "# Unique values in a column as a list\n",
    "change_components['Region'].unique()"
   ]
  },
  {
   "cell_type": "markdown",
   "metadata": {},
   "source": [
    "# CHECK # NaN's IN A COLUMN"
   ]
  },
  {
   "cell_type": "code",
   "execution_count": null,
   "metadata": {
    "collapsed": true,
    "run_control": {
     "read_only": false
    }
   },
   "outputs": [],
   "source": [
    "# CHECK # NaN's IN A COLUMN\n",
    "change_components[['2015 people per sq. km']].isnull().sum()"
   ]
  },
  {
   "cell_type": "markdown",
   "metadata": {},
   "source": [
    "# Find the row/index numbers of given columns names containing nulls "
   ]
  },
  {
   "cell_type": "code",
   "execution_count": null,
   "metadata": {
    "collapsed": true,
    "run_control": {
     "read_only": false
    }
   },
   "outputs": [],
   "source": [
    "# FIND THE ROW NUMBERS OF THE NaN's BECAUSE I CAN'T GET THIS TO DROP THEM WITH .dropna()\n",
    "change_components[['Pct_immigration_02_15',\n",
    "                   'Pct_death_02_15',\n",
    "                   'Pct_total_births_02_15',\n",
    "                   'normalize*100']][pd.isnull(change_components).any(axis=1)]"
   ]
  },
  {
   "cell_type": "markdown",
   "metadata": {},
   "source": [
    "# To get rid of non numeric values"
   ]
  },
  {
   "cell_type": "code",
   "execution_count": null,
   "metadata": {
    "collapsed": true,
    "run_control": {
     "read_only": false
    }
   },
   "outputs": [],
   "source": [
    "# HAD TO DROP NaN's OUT!\n",
    "change_components['normalize*100'] = pd.notnull(change_components['normalize*100'])\n",
    "change_components['normalize*100'].isnull().sum()#.dropna()\n",
    "#change_components['normalize*100', 'To_leave'].dropna(inplace=True)"
   ]
  },
  {
   "cell_type": "code",
   "execution_count": null,
   "metadata": {
    "collapsed": true,
    "run_control": {
     "read_only": false
    }
   },
   "outputs": [],
   "source": [
    "# Need to list this..."
   ]
  },
  {
   "cell_type": "code",
   "execution_count": null,
   "metadata": {
    "collapsed": true,
    "run_control": {
     "read_only": false
    }
   },
   "outputs": [],
   "source": [
    "# Need to list this\n",
    "change_components.loc[change_components['country'] == 'E', 'Pct_immigration_02_15':'Pct_immigration_02_15'].mean()"
   ]
  },
  {
   "cell_type": "markdown",
   "metadata": {
    "collapsed": true,
    "run_control": {
     "read_only": false
    }
   },
   "source": [
    "# Drop bygiving list of index numbers"
   ]
  },
  {
   "cell_type": "code",
   "execution_count": null,
   "metadata": {
    "collapsed": true,
    "run_control": {
     "read_only": false
    }
   },
   "outputs": [],
   "source": [
    "#df.drop(df.index[[1,3]])\n",
    "change_components.drop(change_components.index[[369,379]], inplace= True)"
   ]
  },
  {
   "cell_type": "markdown",
   "metadata": {
    "collapsed": true,
    "run_control": {
     "read_only": false
    }
   },
   "source": [
    "# Normalise function\n",
    "I think that using a lambda is better..."
   ]
  },
  {
   "cell_type": "code",
   "execution_count": null,
   "metadata": {
    "collapsed": true,
    "run_control": {
     "read_only": false
    }
   },
   "outputs": [],
   "source": [
    "#Normalise function\n",
    "def normalize(df):\n",
    "    result = df.copy()\n",
    "    for feature_name in df.columns:\n",
    "        max_value = df[feature_name].max()\n",
    "        min_value = df[feature_name].min()\n",
    "        result[feature_name] = (df[feature_name] - min_value) / (max_value - min_value)\n",
    "    return result"
   ]
  },
  {
   "cell_type": "code",
   "execution_count": null,
   "metadata": {
    "collapsed": true,
    "run_control": {
     "read_only": false
    }
   },
   "outputs": [],
   "source": [
    "# USING A LAMBDA AND APPLYING\n",
    "normalize = (lambda x: (x - np.min(x)) / (np.max(x) - np.min(x)))\n",
    "\n",
    "test_density['density_normalize_2015'] = change_components[['2015 people per sq. km']].apply(normalize)\n",
    "\n",
    "\n",
    "test_density[:5]"
   ]
  },
  {
   "cell_type": "markdown",
   "metadata": {
    "collapsed": true,
    "run_control": {
     "read_only": false
    }
   },
   "source": [
    "# Select rows on column boolean"
   ]
  },
  {
   "cell_type": "code",
   "execution_count": null,
   "metadata": {
    "collapsed": true,
    "run_control": {
     "read_only": false
    }
   },
   "outputs": [],
   "source": [
    "change_components[change_components['lad2014_name'] == 'Northern Ireland']"
   ]
  },
  {
   "cell_type": "code",
   "execution_count": null,
   "metadata": {
    "collapsed": true,
    "run_control": {
     "read_only": false
    }
   },
   "outputs": [],
   "source": []
  },
  {
   "cell_type": "code",
   "execution_count": null,
   "metadata": {
    "collapsed": true,
    "run_control": {
     "read_only": false
    }
   },
   "outputs": [],
   "source": []
  },
  {
   "cell_type": "code",
   "execution_count": null,
   "metadata": {
    "collapsed": true,
    "run_control": {
     "read_only": false
    }
   },
   "outputs": [],
   "source": []
  },
  {
   "cell_type": "code",
   "execution_count": null,
   "metadata": {
    "collapsed": true,
    "run_control": {
     "read_only": false
    }
   },
   "outputs": [],
   "source": []
  },
  {
   "cell_type": "code",
   "execution_count": null,
   "metadata": {
    "collapsed": true,
    "run_control": {
     "read_only": false
    }
   },
   "outputs": [],
   "source": []
  },
  {
   "cell_type": "code",
   "execution_count": null,
   "metadata": {
    "collapsed": true,
    "run_control": {
     "read_only": false
    }
   },
   "outputs": [],
   "source": []
  },
  {
   "cell_type": "code",
   "execution_count": null,
   "metadata": {
    "collapsed": true,
    "run_control": {
     "read_only": false
    }
   },
   "outputs": [],
   "source": []
  },
  {
   "cell_type": "markdown",
   "metadata": {
    "collapsed": true,
    "run_control": {
     "read_only": false
    }
   },
   "source": [
    "\n",
    "how would you test histograms\n",
    "try thease web pages:\n",
    "http://www.pyimagesearch.com/2014/07/14/3-ways-compare-histograms-using-opencv-python/\n",
    "https://stats.stackexchange.com/questions/7400/how-to-assess-the-similarity-of-two-histograms"
   ]
  },
  {
   "cell_type": "markdown",
   "metadata": {},
   "source": [
    "#example _from scikit website:\n",
    "\n",
    "# How to plot a grouping using kNN. looks quite good. Perhaps this could be run for the last few perameter selections\n",
    "\n",
    "# NEED TO PARK THIS AS GETTING MEMORY ERROR. SAVED IN COOKBOOK NB"
   ]
  },
  {
   "cell_type": "code",
   "execution_count": null,
   "metadata": {
    "collapsed": true,
    "run_control": {
     "read_only": false
    }
   },
   "outputs": [],
   "source": [
    "%matplotlib inline"
   ]
  },
  {
   "cell_type": "code",
   "execution_count": null,
   "metadata": {
    "collapsed": true,
    "run_control": {
     "read_only": false
    }
   },
   "outputs": [],
   "source": [
    "\"\"\"print(__doc__)\n",
    "\n",
    "import numpy as np\n",
    "import matplotlib.pyplot as plt\n",
    "from matplotlib.colors import ListedColormap\n",
    "from sklearn import neighbors, datasets\n",
    "\n",
    "n_neighbors = 15\n",
    "\n",
    "# import some data to play with\n",
    "iris = datasets.load_iris()\n",
    "X = iris.data[:, :2]  # we only take the first two features. We could\n",
    "                      # avoid this ugly slicing by using a two-dim dataset\n",
    "y = iris.target\n",
    "\n",
    "h = .02  # step size in the mesh\n",
    "\n",
    "# Create color maps\n",
    "cmap_light = ListedColormap(['#FFAAAA', '#AAFFAA', '#AAAAFF'])\n",
    "cmap_bold = ListedColormap(['#FF0000', '#00FF00', '#0000FF'])\n",
    "\n",
    "for weights in ['uniform', 'distance']:\n",
    "    # we create an instance of Neighbours Classifier and fit the data.\n",
    "    clf = neighbors.KNeighborsClassifier(n_neighbors, weights=weights)\n",
    "    clf.fit(X, y)\n",
    "\n",
    "    # Plot the decision boundary. For that, we will assign a color to each\n",
    "    # point in the mesh [x_min, x_max]x[y_min, y_max].\n",
    "    x_min, x_max = X[:, 0].min() - 1, X[:, 0].max() + 1\n",
    "    y_min, y_max = X[:, 1].min() - 1, X[:, 1].max() + 1\n",
    "    xx, yy = np.meshgrid(np.arange(x_min, x_max, h),\n",
    "                         np.arange(y_min, y_max, h))\n",
    "    Z = clf.predict(np.c_[xx.ravel(), yy.ravel()])\n",
    "\n",
    "    # Put the result into a color plot\n",
    "    Z = Z.reshape(xx.shape)\n",
    "    plt.figure()\n",
    "    plt.pcolormesh(xx, yy, Z, cmap=cmap_light)\n",
    "\n",
    "    # Plot also the training points\n",
    "    plt.scatter(X[:, 0], X[:, 1], c=y, cmap=cmap_bold)\n",
    "    plt.xlim(xx.min(), xx.max())\n",
    "    plt.ylim(yy.min(), yy.max())\n",
    "    plt.title(\"3-Class classification (k = %i, weights = '%s')\"\n",
    "              % (n_neighbors, weights))\n",
    "\n",
    "plt.show()\n",
    "\"\"\""
   ]
  },
  {
   "cell_type": "code",
   "execution_count": null,
   "metadata": {
    "collapsed": true,
    "run_control": {
     "read_only": false
    }
   },
   "outputs": [],
   "source": [
    "print(__doc__)\n",
    "\n",
    "import numpy as np\n",
    "import matplotlib.pyplot as plt\n",
    "from matplotlib.colors import ListedColormap\n",
    "from sklearn import neighbors, datasets\n",
    "\n",
    "# DON'T THINK I NEED THIS\n",
    "#n_neighbors = 15\n",
    "\n",
    "# import some data to play with\n",
    "########## USE THIS DATA FROM ABOVE!\n",
    "PLOT_train = change_components[['Pct_immigration_02_15', 'Pct_total_births_02_15']] # wAS x\n",
    "PLOT_targe = change_components['To_leave'] # Was Y\n",
    "\n",
    "\n",
    "##################################################THIS IS WHERE I WAS UPTO \n",
    "##################################################KEPT GETTING MEMORY ERROR SO TRIED TO HALF N OF DATA VALUES\n",
    "# HAVING MEMORY ERROR SO SELECT A HALF SAMPLE\n",
    "\n",
    "PLOT_train = PLOT_train.sample(frac=0.5)\n",
    "\n",
    "PLOT_targe = PLOT_targe.sample(frac=0.5)\n",
    "\n",
    "\n",
    "\n",
    "\n",
    "\n",
    "# TURN TO FLOATS DONT THINK I NEED THIS\n",
    "#PLOT_train = pd.to_numeric(PLOT_train[['Pct_immigration_02_15', 'Pct_total_births_02_15']], errors='coerce').fillna(0)\n",
    "\n",
    "\n",
    "##################### TO PUT THE COLOURS BEHIND THE PLOT\n",
    "h = .02  # step size in the mesh\n",
    "\n",
    "# Create color maps\n",
    "cmap_light = ListedColormap(['#FFAAAA', '#AAFFAA'])\n",
    "cmap_bold = ListedColormap(['#FF0000', '#00FF00'])\n",
    "\n",
    "for weights in ['uniform', 'distance']:\n",
    "    # we create an instance of Neighbours Classifier and fit the data.\n",
    "    classifier = neighbors.KNeighborsClassifier(n_neighbors=30, metric='euclidean', weights='distance')\n",
    "    classifier.fit(PLOT_train, PLOT_targe)\n",
    "\n",
    "    # Plot the decision boundary. For that, we will assign a color to each\n",
    "    # point in the mesh [x_min, x_max]x[y_min, y_max].\n",
    "    x_min, x_max = PLOT_train['Pct_immigration_02_15'].min() - 1, PLOT_train['Pct_immigration_02_15'].max() + 1\n",
    "    y_min, y_max = PLOT_train['Pct_total_births_02_15'].min() - 1, PLOT_train['Pct_total_births_02_15'].max() + 1\n",
    "    \n",
    "    # 'Pct_immigration_02_15', 'Pct_total_births_02_15'\n",
    "    ##################\n",
    "    #   x_min, x_max = X[:, 0].min() - 1, X[:, 0].max() + 1\n",
    "    #   y_min, y_max = X[:, 1].min() - 1, X[:, 1]\n",
    "    ###################\n",
    "    \n",
    "    xx, yy = np.meshgrid(np.arange(x_min, x_max, h), \n",
    "                         np.arange(y_min, y_max, h))\n",
    "    \n",
    "    Z = classifier.predict(np.c_[xx.ravel(), yy.ravel()])\n",
    "\n",
    "    # Put the result into a color plot\n",
    "    Z = Z.reshape(xx.shape)\n",
    "    plt.figure()\n",
    "    plt.pcolormesh(xx, yy, Z, cmap=cmap_light)\n",
    "\n",
    "    # Plot also the training points\n",
    "    plt.scatter(PLOT_train, PLOT_train, c=y, cmap=cmap_bold)\n",
    "    plt.xlim(xx.min(), xx.max())\n",
    "    plt.ylim(yy.min(), yy.max())\n",
    "    plt.title(\"3-Class classification (k = %i, weights = '%s')\"\n",
    "              % (n_neighbors, weights))\n",
    "\n",
    "plt.show()\n",
    "# THINGS CHANGED\n",
    "### clf = classifier\n",
    "###"
   ]
  },
  {
   "cell_type": "markdown",
   "metadata": {
    "collapsed": true,
    "run_control": {
     "read_only": false
    }
   },
   "source": [
    "# USING COLOUR_MAP FOR .PLOT()"
   ]
  },
  {
   "cell_type": "code",
   "execution_count": null,
   "metadata": {
    "collapsed": true,
    "run_control": {
     "read_only": false
    }
   },
   "outputs": [],
   "source": [
    "# USING COLOUR_MAP FOR .PLOT()____SEE COLOURMAPS ON LINK BELOW\n",
    "# http://scipy.github.io/old-wiki/pages/Cookbook/Matplotlib/Show_colormaps\n",
    "df.plot(kind='bar', stacked=True, colormap='Paired')"
   ]
  },
  {
   "cell_type": "code",
   "execution_count": null,
   "metadata": {
    "collapsed": true,
    "run_control": {
     "read_only": false
    }
   },
   "outputs": [],
   "source": []
  },
  {
   "cell_type": "code",
   "execution_count": null,
   "metadata": {
    "collapsed": true,
    "run_control": {
     "read_only": false
    }
   },
   "outputs": [],
   "source": []
  },
  {
   "cell_type": "code",
   "execution_count": null,
   "metadata": {
    "collapsed": true,
    "run_control": {
     "read_only": false
    }
   },
   "outputs": [],
   "source": []
  },
  {
   "cell_type": "code",
   "execution_count": null,
   "metadata": {
    "collapsed": true,
    "run_control": {
     "read_only": false
    }
   },
   "outputs": [],
   "source": []
  },
  {
   "cell_type": "code",
   "execution_count": null,
   "metadata": {
    "collapsed": true,
    "run_control": {
     "read_only": false
    }
   },
   "outputs": [],
   "source": []
  },
  {
   "cell_type": "code",
   "execution_count": null,
   "metadata": {
    "collapsed": true,
    "run_control": {
     "read_only": false
    }
   },
   "outputs": [],
   "source": []
  }
 ],
 "metadata": {
  "kernelspec": {
   "display_name": "Python 3",
   "language": "python",
   "name": "python3"
  },
  "language_info": {
   "codemirror_mode": {
    "name": "ipython",
    "version": 3
   },
   "file_extension": ".py",
   "mimetype": "text/x-python",
   "name": "python",
   "nbconvert_exporter": "python",
   "pygments_lexer": "ipython3",
   "version": "3.4.3"
  }
 },
 "nbformat": 4,
 "nbformat_minor": 0
}
